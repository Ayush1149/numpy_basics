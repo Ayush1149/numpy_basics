{
 "cells": [
  {
   "cell_type": "code",
   "execution_count": 3,
   "id": "14eb381f",
   "metadata": {},
   "outputs": [
    {
     "name": "stdout",
     "output_type": "stream",
     "text": [
      "Defaulting to user installation because normal site-packages is not writeable\n",
      "Collecting mysql-connector-python\n",
      "  Downloading mysql_connector_python-9.3.0-cp313-cp313-win_amd64.whl.metadata (7.7 kB)\n",
      "Downloading mysql_connector_python-9.3.0-cp313-cp313-win_amd64.whl (16.4 MB)\n",
      "   ---------------------------------------- 0.0/16.4 MB ? eta -:--:--\n",
      "   --- ------------------------------------ 1.3/16.4 MB 11.1 MB/s eta 0:00:02\n",
      "   ---------- ----------------------------- 4.5/16.4 MB 13.8 MB/s eta 0:00:01\n",
      "   ------------- -------------------------- 5.5/16.4 MB 10.2 MB/s eta 0:00:02\n",
      "   -------------- ------------------------- 6.0/16.4 MB 8.7 MB/s eta 0:00:02\n",
      "   --------------- ------------------------ 6.3/16.4 MB 7.8 MB/s eta 0:00:02\n",
      "   ----------------- ---------------------- 7.3/16.4 MB 6.5 MB/s eta 0:00:02\n",
      "   ------------------- -------------------- 8.1/16.4 MB 6.0 MB/s eta 0:00:02\n",
      "   --------------------- ------------------ 8.9/16.4 MB 5.6 MB/s eta 0:00:02\n",
      "   ----------------------- ---------------- 9.7/16.4 MB 5.3 MB/s eta 0:00:02\n",
      "   ------------------------ --------------- 10.2/16.4 MB 5.2 MB/s eta 0:00:02\n",
      "   -------------------------- ------------- 11.0/16.4 MB 5.0 MB/s eta 0:00:02\n",
      "   ---------------------------- ----------- 11.8/16.4 MB 4.9 MB/s eta 0:00:01\n",
      "   ------------------------------ --------- 12.3/16.4 MB 4.7 MB/s eta 0:00:01\n",
      "   ------------------------------- -------- 12.8/16.4 MB 4.6 MB/s eta 0:00:01\n",
      "   -------------------------------- ------- 13.4/16.4 MB 4.4 MB/s eta 0:00:01\n",
      "   --------------------------------- ------ 13.9/16.4 MB 4.3 MB/s eta 0:00:01\n",
      "   ----------------------------------- ---- 14.4/16.4 MB 4.2 MB/s eta 0:00:01\n",
      "   ------------------------------------- -- 15.2/16.4 MB 4.1 MB/s eta 0:00:01\n",
      "   -------------------------------------- - 15.7/16.4 MB 4.1 MB/s eta 0:00:01\n",
      "   ---------------------------------------  16.3/16.4 MB 4.0 MB/s eta 0:00:01\n",
      "   ---------------------------------------- 16.4/16.4 MB 4.0 MB/s eta 0:00:00\n",
      "Installing collected packages: mysql-connector-python\n",
      "Successfully installed mysql-connector-python-9.3.0\n",
      "Note: you may need to restart the kernel to use updated packages.\n"
     ]
    },
    {
     "name": "stderr",
     "output_type": "stream",
     "text": [
      "\n",
      "[notice] A new release of pip is available: 25.0.1 -> 25.1.1\n",
      "[notice] To update, run: C:\\Users\\AYUSH\\AppData\\Local\\Microsoft\\WindowsApps\\PythonSoftwareFoundation.Python.3.13_qbz5n2kfra8p0\\python.exe -m pip install --upgrade pip\n"
     ]
    }
   ],
   "source": [
    "pip install mysql-connector-python"
   ]
  },
  {
   "cell_type": "code",
   "execution_count": 4,
   "id": "396ab2cc",
   "metadata": {},
   "outputs": [],
   "source": [
    "import mysql.connector"
   ]
  },
  {
   "cell_type": "code",
   "execution_count": 10,
   "id": "3ea41b2b",
   "metadata": {},
   "outputs": [
    {
     "name": "stdout",
     "output_type": "stream",
     "text": [
      "<mysql.connector.connection.MySQLConnection object at 0x000001D53255AE90>\n"
     ]
    }
   ],
   "source": [
    "import mysql.connector\n",
    "\n",
    "mydb = mysql.connector.connect(\n",
    "  host=\"localhost\",\n",
    "  user=\"root\",\n",
    "  password=\"1234\",\n",
    "  database=\"sales\"\n",
    ")\n",
    "\n",
    "print(mydb)"
   ]
  },
  {
   "cell_type": "code",
   "execution_count": 11,
   "id": "8976ab16",
   "metadata": {},
   "outputs": [],
   "source": [
    "mycursor = mydb.cursor()"
   ]
  },
  {
   "cell_type": "code",
   "execution_count": 13,
   "id": "39fc1b02",
   "metadata": {},
   "outputs": [],
   "source": [
    "mycursor.execute(\"SHOW TABLES\")"
   ]
  },
  {
   "cell_type": "code",
   "execution_count": 14,
   "id": "e9b31aac",
   "metadata": {},
   "outputs": [
    {
     "name": "stdout",
     "output_type": "stream",
     "text": [
      "('bike',)\n",
      "('billing',)\n",
      "('customer',)\n",
      "('customers',)\n",
      "('date',)\n",
      "('markets',)\n",
      "('membership',)\n",
      "('membership_type',)\n",
      "('products',)\n",
      "('rental',)\n",
      "('transactions',)\n"
     ]
    }
   ],
   "source": [
    "for table in mycursor:\n",
    "    print(table)"
   ]
  },
  {
   "cell_type": "code",
   "execution_count": 17,
   "id": "5794849e",
   "metadata": {},
   "outputs": [
    {
     "name": "stdout",
     "output_type": "stream",
     "text": [
      "(1, 'Mountain Bike 1', 'mountain bike', Decimal('10'), Decimal('50'), 'available')\n",
      "(2, 'Road Bike 1', 'road bike', Decimal('12'), Decimal('60'), 'available')\n",
      "(3, 'Hybrid Bike 1', 'hybrid', Decimal('8'), Decimal('40'), 'rented')\n",
      "(4, 'Electric Bike 1', 'electric', Decimal('15'), Decimal('75'), 'available')\n",
      "(5, 'Mountain Bike 2', 'mountain bike', Decimal('10'), Decimal('50'), 'out of service')\n",
      "(6, 'Road Bike 2', 'road bike', Decimal('12'), Decimal('60'), 'available')\n",
      "(7, 'Hybrid Bike 2', 'hybrid', Decimal('8'), Decimal('40'), 'out of service')\n",
      "(8, 'Electric Bike 2', 'electric', Decimal('15'), Decimal('75'), 'available')\n",
      "(9, 'Mountain Bike 3', 'mountain bike', Decimal('10'), Decimal('50'), 'rented')\n",
      "(10, 'Road Bike 3', 'road bike', Decimal('12'), Decimal('60'), 'available')\n"
     ]
    }
   ],
   "source": [
    "mycursor.execute(\"SELECT * FROM bike\")\n",
    "for row in mycursor:\n",
    "    print(row)"
   ]
  },
  {
   "cell_type": "code",
   "execution_count": 18,
   "id": "ce6c176b",
   "metadata": {},
   "outputs": [
    {
     "name": "stdout",
     "output_type": "stream",
     "text": [
      "(1, 'Mountain Bike 1', 'mountain bike', Decimal('10'), Decimal('50'), 'available')\n",
      "(2, 'Road Bike 1', 'road bike', Decimal('12'), Decimal('60'), 'available')\n",
      "(3, 'Hybrid Bike 1', 'hybrid', Decimal('8'), Decimal('40'), 'rented')\n",
      "(4, 'Electric Bike 1', 'electric', Decimal('15'), Decimal('75'), 'available')\n",
      "(5, 'Mountain Bike 2', 'mountain bike', Decimal('10'), Decimal('50'), 'out of service')\n",
      "(6, 'Road Bike 2', 'road bike', Decimal('12'), Decimal('60'), 'available')\n",
      "(7, 'Hybrid Bike 2', 'hybrid', Decimal('8'), Decimal('40'), 'out of service')\n",
      "(8, 'Electric Bike 2', 'electric', Decimal('15'), Decimal('75'), 'available')\n",
      "(9, 'Mountain Bike 3', 'mountain bike', Decimal('10'), Decimal('50'), 'rented')\n",
      "(10, 'Road Bike 3', 'road bike', Decimal('12'), Decimal('60'), 'available')\n"
     ]
    }
   ],
   "source": [
    "mycursor.execute(\"SELECT * FROM bike\")\n",
    "result = mycursor.fetchall()\n",
    "for row in result:\n",
    "    print(row)"
   ]
  },
  {
   "cell_type": "code",
   "execution_count": 19,
   "id": "c69adfd6",
   "metadata": {},
   "outputs": [],
   "source": [
    "import pandas as pd"
   ]
  },
  {
   "cell_type": "code",
   "execution_count": 25,
   "id": "a2e5f104",
   "metadata": {},
   "outputs": [],
   "source": [
    "mycursor.execute(\"SELECT * FROM bike\")"
   ]
  },
  {
   "cell_type": "code",
   "execution_count": 26,
   "id": "eae57a91",
   "metadata": {},
   "outputs": [],
   "source": [
    "rows = mycursor.fetchall()"
   ]
  },
  {
   "cell_type": "code",
   "execution_count": 27,
   "id": "65c68e99",
   "metadata": {},
   "outputs": [],
   "source": [
    "column_names = [i[0] for i in mycursor.description]"
   ]
  },
  {
   "cell_type": "code",
   "execution_count": 28,
   "id": "9467296f",
   "metadata": {},
   "outputs": [],
   "source": [
    "df = pd.DataFrame(rows, columns=column_names)"
   ]
  },
  {
   "cell_type": "code",
   "execution_count": 29,
   "id": "0a1d397c",
   "metadata": {},
   "outputs": [
    {
     "data": {
      "application/vnd.microsoft.datawrangler.viewer.v0+json": {
       "columns": [
        {
         "name": "index",
         "rawType": "int64",
         "type": "integer"
        },
        {
         "name": "id",
         "rawType": "int64",
         "type": "integer"
        },
        {
         "name": "model",
         "rawType": "object",
         "type": "string"
        },
        {
         "name": "category",
         "rawType": "object",
         "type": "string"
        },
        {
         "name": "price_per_hour",
         "rawType": "object",
         "type": "unknown"
        },
        {
         "name": "price_per_day",
         "rawType": "object",
         "type": "unknown"
        },
        {
         "name": "status",
         "rawType": "object",
         "type": "string"
        }
       ],
       "conversionMethod": "pd.DataFrame",
       "ref": "52f8b86b-1f89-45d1-87f6-6eca7edf1a09",
       "rows": [
        [
         "0",
         "1",
         "Mountain Bike 1",
         "mountain bike",
         "10",
         "50",
         "available"
        ],
        [
         "1",
         "2",
         "Road Bike 1",
         "road bike",
         "12",
         "60",
         "available"
        ],
        [
         "2",
         "3",
         "Hybrid Bike 1",
         "hybrid",
         "8",
         "40",
         "rented"
        ],
        [
         "3",
         "4",
         "Electric Bike 1",
         "electric",
         "15",
         "75",
         "available"
        ],
        [
         "4",
         "5",
         "Mountain Bike 2",
         "mountain bike",
         "10",
         "50",
         "out of service"
        ]
       ],
       "shape": {
        "columns": 6,
        "rows": 5
       }
      },
      "text/html": [
       "<div>\n",
       "<style scoped>\n",
       "    .dataframe tbody tr th:only-of-type {\n",
       "        vertical-align: middle;\n",
       "    }\n",
       "\n",
       "    .dataframe tbody tr th {\n",
       "        vertical-align: top;\n",
       "    }\n",
       "\n",
       "    .dataframe thead th {\n",
       "        text-align: right;\n",
       "    }\n",
       "</style>\n",
       "<table border=\"1\" class=\"dataframe\">\n",
       "  <thead>\n",
       "    <tr style=\"text-align: right;\">\n",
       "      <th></th>\n",
       "      <th>id</th>\n",
       "      <th>model</th>\n",
       "      <th>category</th>\n",
       "      <th>price_per_hour</th>\n",
       "      <th>price_per_day</th>\n",
       "      <th>status</th>\n",
       "    </tr>\n",
       "  </thead>\n",
       "  <tbody>\n",
       "    <tr>\n",
       "      <th>0</th>\n",
       "      <td>1</td>\n",
       "      <td>Mountain Bike 1</td>\n",
       "      <td>mountain bike</td>\n",
       "      <td>10</td>\n",
       "      <td>50</td>\n",
       "      <td>available</td>\n",
       "    </tr>\n",
       "    <tr>\n",
       "      <th>1</th>\n",
       "      <td>2</td>\n",
       "      <td>Road Bike 1</td>\n",
       "      <td>road bike</td>\n",
       "      <td>12</td>\n",
       "      <td>60</td>\n",
       "      <td>available</td>\n",
       "    </tr>\n",
       "    <tr>\n",
       "      <th>2</th>\n",
       "      <td>3</td>\n",
       "      <td>Hybrid Bike 1</td>\n",
       "      <td>hybrid</td>\n",
       "      <td>8</td>\n",
       "      <td>40</td>\n",
       "      <td>rented</td>\n",
       "    </tr>\n",
       "    <tr>\n",
       "      <th>3</th>\n",
       "      <td>4</td>\n",
       "      <td>Electric Bike 1</td>\n",
       "      <td>electric</td>\n",
       "      <td>15</td>\n",
       "      <td>75</td>\n",
       "      <td>available</td>\n",
       "    </tr>\n",
       "    <tr>\n",
       "      <th>4</th>\n",
       "      <td>5</td>\n",
       "      <td>Mountain Bike 2</td>\n",
       "      <td>mountain bike</td>\n",
       "      <td>10</td>\n",
       "      <td>50</td>\n",
       "      <td>out of service</td>\n",
       "    </tr>\n",
       "  </tbody>\n",
       "</table>\n",
       "</div>"
      ],
      "text/plain": [
       "   id            model       category price_per_hour price_per_day  \\\n",
       "0   1  Mountain Bike 1  mountain bike             10            50   \n",
       "1   2      Road Bike 1      road bike             12            60   \n",
       "2   3    Hybrid Bike 1         hybrid              8            40   \n",
       "3   4  Electric Bike 1       electric             15            75   \n",
       "4   5  Mountain Bike 2  mountain bike             10            50   \n",
       "\n",
       "           status  \n",
       "0       available  \n",
       "1       available  \n",
       "2          rented  \n",
       "3       available  \n",
       "4  out of service  "
      ]
     },
     "execution_count": 29,
     "metadata": {},
     "output_type": "execute_result"
    }
   ],
   "source": [
    "df.head()"
   ]
  },
  {
   "cell_type": "code",
   "execution_count": 2,
   "id": "54aa43d2",
   "metadata": {},
   "outputs": [
    {
     "name": "stdout",
     "output_type": "stream",
     "text": [
      "Defaulting to user installation because normal site-packages is not writeable\n",
      "Collecting requests\n",
      "  Downloading requests-2.32.3-py3-none-any.whl.metadata (4.6 kB)\n",
      "Collecting charset-normalizer<4,>=2 (from requests)\n",
      "  Downloading charset_normalizer-3.4.2-cp313-cp313-win_amd64.whl.metadata (36 kB)\n",
      "Collecting idna<4,>=2.5 (from requests)\n",
      "  Downloading idna-3.10-py3-none-any.whl.metadata (10 kB)\n",
      "Collecting urllib3<3,>=1.21.1 (from requests)\n",
      "  Downloading urllib3-2.4.0-py3-none-any.whl.metadata (6.5 kB)\n",
      "Collecting certifi>=2017.4.17 (from requests)\n",
      "  Downloading certifi-2025.4.26-py3-none-any.whl.metadata (2.5 kB)\n",
      "Downloading requests-2.32.3-py3-none-any.whl (64 kB)\n",
      "Downloading certifi-2025.4.26-py3-none-any.whl (159 kB)\n",
      "Downloading charset_normalizer-3.4.2-cp313-cp313-win_amd64.whl (105 kB)\n",
      "Downloading idna-3.10-py3-none-any.whl (70 kB)\n",
      "Downloading urllib3-2.4.0-py3-none-any.whl (128 kB)\n",
      "Installing collected packages: urllib3, idna, charset-normalizer, certifi, requests\n",
      "Successfully installed certifi-2025.4.26 charset-normalizer-3.4.2 idna-3.10 requests-2.32.3 urllib3-2.4.0\n",
      "Note: you may need to restart the kernel to use updated packages.\n"
     ]
    },
    {
     "name": "stderr",
     "output_type": "stream",
     "text": [
      "\n",
      "[notice] A new release of pip is available: 25.0.1 -> 25.1.1\n",
      "[notice] To update, run: C:\\Users\\AYUSH\\AppData\\Local\\Microsoft\\WindowsApps\\PythonSoftwareFoundation.Python.3.13_qbz5n2kfra8p0\\python.exe -m pip install --upgrade pip\n"
     ]
    }
   ],
   "source": [
    "pip install requests"
   ]
  },
  {
   "cell_type": "code",
   "execution_count": 21,
   "id": "552c4f9a",
   "metadata": {},
   "outputs": [
    {
     "name": "stdout",
     "output_type": "stream",
     "text": [
      "Shape: (1, 39)\n",
      "Columns: ['fairings', 'static_fire_date_utc', 'static_fire_date_unix', 'net', 'window', 'rocket', 'success', 'failures', 'details', 'crew', 'ships', 'capsules', 'payloads', 'launchpad', 'flight_number', 'name', 'date_utc', 'date_unix', 'date_local', 'date_precision', 'upcoming', 'cores', 'auto_update', 'tbd', 'launch_library_id', 'id', 'links.patch.small', 'links.patch.large', 'links.reddit.campaign', 'links.reddit.launch', 'links.reddit.media', 'links.reddit.recovery', 'links.flickr.small', 'links.flickr.original', 'links.presskit', 'links.webcast', 'links.youtube_id', 'links.article', 'links.wikipedia']\n",
      "     name                  date_utc details  success  \\\n",
      "0  Crew-5  2022-10-05T16:00:00.000Z    None     True   \n",
      "\n",
      "                  links.webcast  \n",
      "0  https://youtu.be/5EwW8ZkArL4  \n"
     ]
    }
   ],
   "source": [
    "import requests\n",
    "import pandas as pd\n",
    "\n",
    "# Fetch data\n",
    "url = \"https://api.spacexdata.com/v4/launches/latest\"\n",
    "response = requests.get(url)\n",
    "data = response.json()\n",
    "\n",
    "# Flatten the JSON\n",
    "df = pd.json_normalize(data)\n",
    "\n",
    "# Show basic info\n",
    "print(\"Shape:\", df.shape)\n",
    "print(\"Columns:\", df.columns.tolist())\n",
    "\n",
    "# Select a few relevant columns to print\n",
    "cols = ['name', 'date_utc', 'details', 'success', 'links.webcast']\n",
    "print(df[cols])"
   ]
  },
  {
   "cell_type": "code",
   "execution_count": 22,
   "id": "6baec84e",
   "metadata": {},
   "outputs": [
    {
     "name": "stdout",
     "output_type": "stream",
     "text": [
      "Rows: 205\n",
      "          name                  date_utc success  \\\n",
      "0    FalconSat  2006-03-24T22:30:00.000Z   False   \n",
      "1      DemoSat  2007-03-21T01:10:00.000Z   False   \n",
      "2  Trailblazer  2008-08-03T03:34:00.000Z   False   \n",
      "3       RatSat  2008-09-28T23:15:00.000Z    True   \n",
      "4     RazakSat  2009-07-13T03:35:00.000Z    True   \n",
      "\n",
      "                                             details  \n",
      "0   Engine failure at 33 seconds and loss of vehicle  \n",
      "1  Successful first stage burn and transition to ...  \n",
      "2  Residual stage 1 thrust led to collision betwe...  \n",
      "3  Ratsat was carried to orbit on the first succe...  \n",
      "4                                               None  \n"
     ]
    }
   ],
   "source": [
    "import requests\n",
    "import pandas as pd\n",
    "\n",
    "url = \"https://api.spacexdata.com/v4/launches\"\n",
    "response = requests.get(url)\n",
    "data = response.json()\n",
    "\n",
    "# Now 'data' is a list of launches\n",
    "df = pd.json_normalize(data)\n",
    "\n",
    "# Show basic info\n",
    "print(\"Rows:\", df.shape[0])\n",
    "print(df[['name', 'date_utc', 'success', 'details']].head(5))\n"
   ]
  },
  {
   "cell_type": "code",
   "execution_count": 23,
   "id": "80c63042",
   "metadata": {},
   "outputs": [
    {
     "data": {
      "application/vnd.microsoft.datawrangler.viewer.v0+json": {
       "columns": [
        {
         "name": "index",
         "rawType": "int64",
         "type": "integer"
        },
        {
         "name": "static_fire_date_utc",
         "rawType": "object",
         "type": "unknown"
        },
        {
         "name": "static_fire_date_unix",
         "rawType": "float64",
         "type": "float"
        },
        {
         "name": "net",
         "rawType": "bool",
         "type": "boolean"
        },
        {
         "name": "window",
         "rawType": "float64",
         "type": "float"
        },
        {
         "name": "rocket",
         "rawType": "object",
         "type": "string"
        },
        {
         "name": "success",
         "rawType": "object",
         "type": "unknown"
        },
        {
         "name": "failures",
         "rawType": "object",
         "type": "unknown"
        },
        {
         "name": "details",
         "rawType": "object",
         "type": "unknown"
        },
        {
         "name": "crew",
         "rawType": "object",
         "type": "unknown"
        },
        {
         "name": "ships",
         "rawType": "object",
         "type": "unknown"
        },
        {
         "name": "capsules",
         "rawType": "object",
         "type": "unknown"
        },
        {
         "name": "payloads",
         "rawType": "object",
         "type": "unknown"
        },
        {
         "name": "launchpad",
         "rawType": "object",
         "type": "string"
        },
        {
         "name": "flight_number",
         "rawType": "int64",
         "type": "integer"
        },
        {
         "name": "name",
         "rawType": "object",
         "type": "string"
        },
        {
         "name": "date_utc",
         "rawType": "object",
         "type": "string"
        },
        {
         "name": "date_unix",
         "rawType": "int64",
         "type": "integer"
        },
        {
         "name": "date_local",
         "rawType": "object",
         "type": "string"
        },
        {
         "name": "date_precision",
         "rawType": "object",
         "type": "string"
        },
        {
         "name": "upcoming",
         "rawType": "bool",
         "type": "boolean"
        },
        {
         "name": "cores",
         "rawType": "object",
         "type": "unknown"
        },
        {
         "name": "auto_update",
         "rawType": "bool",
         "type": "boolean"
        },
        {
         "name": "tbd",
         "rawType": "bool",
         "type": "boolean"
        },
        {
         "name": "launch_library_id",
         "rawType": "object",
         "type": "unknown"
        },
        {
         "name": "id",
         "rawType": "object",
         "type": "string"
        },
        {
         "name": "fairings.reused",
         "rawType": "object",
         "type": "unknown"
        },
        {
         "name": "fairings.recovery_attempt",
         "rawType": "object",
         "type": "unknown"
        },
        {
         "name": "fairings.recovered",
         "rawType": "object",
         "type": "unknown"
        },
        {
         "name": "fairings.ships",
         "rawType": "object",
         "type": "unknown"
        },
        {
         "name": "links.patch.small",
         "rawType": "object",
         "type": "string"
        },
        {
         "name": "links.patch.large",
         "rawType": "object",
         "type": "string"
        },
        {
         "name": "links.reddit.campaign",
         "rawType": "object",
         "type": "unknown"
        },
        {
         "name": "links.reddit.launch",
         "rawType": "object",
         "type": "unknown"
        },
        {
         "name": "links.reddit.media",
         "rawType": "object",
         "type": "unknown"
        },
        {
         "name": "links.reddit.recovery",
         "rawType": "object",
         "type": "unknown"
        },
        {
         "name": "links.flickr.small",
         "rawType": "object",
         "type": "unknown"
        },
        {
         "name": "links.flickr.original",
         "rawType": "object",
         "type": "unknown"
        },
        {
         "name": "links.presskit",
         "rawType": "object",
         "type": "unknown"
        },
        {
         "name": "links.webcast",
         "rawType": "object",
         "type": "string"
        },
        {
         "name": "links.youtube_id",
         "rawType": "object",
         "type": "string"
        },
        {
         "name": "links.article",
         "rawType": "object",
         "type": "string"
        },
        {
         "name": "links.wikipedia",
         "rawType": "object",
         "type": "string"
        },
        {
         "name": "fairings",
         "rawType": "float64",
         "type": "float"
        }
       ],
       "conversionMethod": "pd.DataFrame",
       "ref": "90ae5b1c-df2a-4f6d-8f66-9fc52a224cc7",
       "rows": [
        [
         "0",
         "2006-03-17T00:00:00.000Z",
         "1142553600.0",
         "False",
         "0.0",
         "5e9d0d95eda69955f709d1eb",
         "False",
         "[{'time': 33, 'altitude': None, 'reason': 'merlin engine failure'}]",
         "Engine failure at 33 seconds and loss of vehicle",
         "[]",
         "[]",
         "[]",
         "['5eb0e4b5b6c3bb0006eeb1e1']",
         "5e9e4502f5090995de566f86",
         "1",
         "FalconSat",
         "2006-03-24T22:30:00.000Z",
         "1143239400",
         "2006-03-25T10:30:00+12:00",
         "hour",
         "False",
         "[{'core': '5e9e289df35918033d3b2623', 'flight': 1, 'gridfins': False, 'legs': False, 'reused': False, 'landing_attempt': False, 'landing_success': None, 'landing_type': None, 'landpad': None}]",
         "True",
         "False",
         null,
         "5eb87cd9ffd86e000604b32a",
         "False",
         "False",
         "False",
         "[]",
         "https://images2.imgbox.com/94/f2/NN6Ph45r_o.png",
         "https://images2.imgbox.com/5b/02/QcxHUb5V_o.png",
         null,
         null,
         null,
         null,
         "[]",
         "[]",
         null,
         "https://www.youtube.com/watch?v=0a_00nJ_Y88",
         "0a_00nJ_Y88",
         "https://www.space.com/2196-spacex-inaugural-falcon-1-rocket-lost-launch.html",
         "https://en.wikipedia.org/wiki/DemoSat",
         null
        ],
        [
         "1",
         null,
         null,
         "False",
         "0.0",
         "5e9d0d95eda69955f709d1eb",
         "False",
         "[{'time': 301, 'altitude': 289, 'reason': 'harmonic oscillation leading to premature engine shutdown'}]",
         "Successful first stage burn and transition to second stage, maximum altitude 289 km, Premature engine shutdown at T+7 min 30 s, Failed to reach orbit, Failed to recover first stage",
         "[]",
         "[]",
         "[]",
         "['5eb0e4b6b6c3bb0006eeb1e2']",
         "5e9e4502f5090995de566f86",
         "2",
         "DemoSat",
         "2007-03-21T01:10:00.000Z",
         "1174439400",
         "2007-03-21T13:10:00+12:00",
         "hour",
         "False",
         "[{'core': '5e9e289ef35918416a3b2624', 'flight': 1, 'gridfins': False, 'legs': False, 'reused': False, 'landing_attempt': False, 'landing_success': None, 'landing_type': None, 'landpad': None}]",
         "True",
         "False",
         null,
         "5eb87cdaffd86e000604b32b",
         "False",
         "False",
         "False",
         "[]",
         "https://images2.imgbox.com/f9/4a/ZboXReNb_o.png",
         "https://images2.imgbox.com/80/a2/bkWotCIS_o.png",
         null,
         null,
         null,
         null,
         "[]",
         "[]",
         null,
         "https://www.youtube.com/watch?v=Lk4zQ2wP-Nc",
         "Lk4zQ2wP-Nc",
         "https://www.space.com/3590-spacex-falcon-1-rocket-fails-reach-orbit.html",
         "https://en.wikipedia.org/wiki/DemoSat",
         null
        ],
        [
         "2",
         null,
         null,
         "False",
         "0.0",
         "5e9d0d95eda69955f709d1eb",
         "False",
         "[{'time': 140, 'altitude': 35, 'reason': 'residual stage-1 thrust led to collision between stage 1 and stage 2'}]",
         "Residual stage 1 thrust led to collision between stage 1 and stage 2",
         "[]",
         "[]",
         "[]",
         "['5eb0e4b6b6c3bb0006eeb1e3', '5eb0e4b6b6c3bb0006eeb1e4']",
         "5e9e4502f5090995de566f86",
         "3",
         "Trailblazer",
         "2008-08-03T03:34:00.000Z",
         "1217734440",
         "2008-08-03T15:34:00+12:00",
         "hour",
         "False",
         "[{'core': '5e9e289ef3591814873b2625', 'flight': 1, 'gridfins': False, 'legs': False, 'reused': False, 'landing_attempt': False, 'landing_success': None, 'landing_type': None, 'landpad': None}]",
         "True",
         "False",
         null,
         "5eb87cdbffd86e000604b32c",
         "False",
         "False",
         "False",
         "[]",
         "https://images2.imgbox.com/6c/cb/na1tzhHs_o.png",
         "https://images2.imgbox.com/4a/80/k1oAkY0k_o.png",
         null,
         null,
         null,
         null,
         "[]",
         "[]",
         null,
         "https://www.youtube.com/watch?v=v0w9p3U8860",
         "v0w9p3U8860",
         "http://www.spacex.com/news/2013/02/11/falcon-1-flight-3-mission-summary",
         "https://en.wikipedia.org/wiki/Trailblazer_(satellite)",
         null
        ],
        [
         "3",
         "2008-09-20T00:00:00.000Z",
         "1221868800.0",
         "False",
         "0.0",
         "5e9d0d95eda69955f709d1eb",
         "True",
         "[]",
         "Ratsat was carried to orbit on the first successful orbital launch of any privately funded and developed, liquid-propelled carrier rocket, the SpaceX Falcon 1",
         "[]",
         "[]",
         "[]",
         "['5eb0e4b7b6c3bb0006eeb1e5']",
         "5e9e4502f5090995de566f86",
         "4",
         "RatSat",
         "2008-09-28T23:15:00.000Z",
         "1222643700",
         "2008-09-28T11:15:00+12:00",
         "hour",
         "False",
         "[{'core': '5e9e289ef3591855dc3b2626', 'flight': 1, 'gridfins': False, 'legs': False, 'reused': False, 'landing_attempt': False, 'landing_success': None, 'landing_type': None, 'landpad': None}]",
         "True",
         "False",
         null,
         "5eb87cdbffd86e000604b32d",
         "False",
         "False",
         "False",
         "[]",
         "https://images2.imgbox.com/95/39/sRqN7rsv_o.png",
         "https://images2.imgbox.com/a3/99/qswRYzE8_o.png",
         null,
         null,
         null,
         null,
         "[]",
         "[]",
         null,
         "https://www.youtube.com/watch?v=dLQ2tZEH6G0",
         "dLQ2tZEH6G0",
         "https://en.wikipedia.org/wiki/Ratsat",
         "https://en.wikipedia.org/wiki/Ratsat",
         null
        ],
        [
         "4",
         null,
         null,
         "False",
         "0.0",
         "5e9d0d95eda69955f709d1eb",
         "True",
         "[]",
         null,
         "[]",
         "[]",
         "[]",
         "['5eb0e4b7b6c3bb0006eeb1e6']",
         "5e9e4502f5090995de566f86",
         "5",
         "RazakSat",
         "2009-07-13T03:35:00.000Z",
         "1247456100",
         "2009-07-13T15:35:00+12:00",
         "hour",
         "False",
         "[{'core': '5e9e289ef359184f103b2627', 'flight': 1, 'gridfins': False, 'legs': False, 'reused': False, 'landing_attempt': False, 'landing_success': None, 'landing_type': None, 'landpad': None}]",
         "True",
         "False",
         null,
         "5eb87cdcffd86e000604b32e",
         "False",
         "False",
         "False",
         "[]",
         "https://images2.imgbox.com/ab/5a/Pequxd5d_o.png",
         "https://images2.imgbox.com/92/e4/7Cf6MLY0_o.png",
         null,
         null,
         null,
         null,
         "[]",
         "[]",
         "http://www.spacex.com/press/2012/12/19/spacexs-falcon-1-successfully-delivers-razaksat-satellite-orbit",
         "https://www.youtube.com/watch?v=yTaIDooc8Og",
         "yTaIDooc8Og",
         "http://www.spacex.com/news/2013/02/12/falcon-1-flight-5",
         "https://en.wikipedia.org/wiki/RazakSAT",
         null
        ]
       ],
       "shape": {
        "columns": 43,
        "rows": 5
       }
      },
      "text/html": [
       "<div>\n",
       "<style scoped>\n",
       "    .dataframe tbody tr th:only-of-type {\n",
       "        vertical-align: middle;\n",
       "    }\n",
       "\n",
       "    .dataframe tbody tr th {\n",
       "        vertical-align: top;\n",
       "    }\n",
       "\n",
       "    .dataframe thead th {\n",
       "        text-align: right;\n",
       "    }\n",
       "</style>\n",
       "<table border=\"1\" class=\"dataframe\">\n",
       "  <thead>\n",
       "    <tr style=\"text-align: right;\">\n",
       "      <th></th>\n",
       "      <th>static_fire_date_utc</th>\n",
       "      <th>static_fire_date_unix</th>\n",
       "      <th>net</th>\n",
       "      <th>window</th>\n",
       "      <th>rocket</th>\n",
       "      <th>success</th>\n",
       "      <th>failures</th>\n",
       "      <th>details</th>\n",
       "      <th>crew</th>\n",
       "      <th>ships</th>\n",
       "      <th>...</th>\n",
       "      <th>links.reddit.media</th>\n",
       "      <th>links.reddit.recovery</th>\n",
       "      <th>links.flickr.small</th>\n",
       "      <th>links.flickr.original</th>\n",
       "      <th>links.presskit</th>\n",
       "      <th>links.webcast</th>\n",
       "      <th>links.youtube_id</th>\n",
       "      <th>links.article</th>\n",
       "      <th>links.wikipedia</th>\n",
       "      <th>fairings</th>\n",
       "    </tr>\n",
       "  </thead>\n",
       "  <tbody>\n",
       "    <tr>\n",
       "      <th>0</th>\n",
       "      <td>2006-03-17T00:00:00.000Z</td>\n",
       "      <td>1.142554e+09</td>\n",
       "      <td>False</td>\n",
       "      <td>0.0</td>\n",
       "      <td>5e9d0d95eda69955f709d1eb</td>\n",
       "      <td>False</td>\n",
       "      <td>[{'time': 33, 'altitude': None, 'reason': 'mer...</td>\n",
       "      <td>Engine failure at 33 seconds and loss of vehicle</td>\n",
       "      <td>[]</td>\n",
       "      <td>[]</td>\n",
       "      <td>...</td>\n",
       "      <td>None</td>\n",
       "      <td>None</td>\n",
       "      <td>[]</td>\n",
       "      <td>[]</td>\n",
       "      <td>None</td>\n",
       "      <td>https://www.youtube.com/watch?v=0a_00nJ_Y88</td>\n",
       "      <td>0a_00nJ_Y88</td>\n",
       "      <td>https://www.space.com/2196-spacex-inaugural-fa...</td>\n",
       "      <td>https://en.wikipedia.org/wiki/DemoSat</td>\n",
       "      <td>NaN</td>\n",
       "    </tr>\n",
       "    <tr>\n",
       "      <th>1</th>\n",
       "      <td>None</td>\n",
       "      <td>NaN</td>\n",
       "      <td>False</td>\n",
       "      <td>0.0</td>\n",
       "      <td>5e9d0d95eda69955f709d1eb</td>\n",
       "      <td>False</td>\n",
       "      <td>[{'time': 301, 'altitude': 289, 'reason': 'har...</td>\n",
       "      <td>Successful first stage burn and transition to ...</td>\n",
       "      <td>[]</td>\n",
       "      <td>[]</td>\n",
       "      <td>...</td>\n",
       "      <td>None</td>\n",
       "      <td>None</td>\n",
       "      <td>[]</td>\n",
       "      <td>[]</td>\n",
       "      <td>None</td>\n",
       "      <td>https://www.youtube.com/watch?v=Lk4zQ2wP-Nc</td>\n",
       "      <td>Lk4zQ2wP-Nc</td>\n",
       "      <td>https://www.space.com/3590-spacex-falcon-1-roc...</td>\n",
       "      <td>https://en.wikipedia.org/wiki/DemoSat</td>\n",
       "      <td>NaN</td>\n",
       "    </tr>\n",
       "    <tr>\n",
       "      <th>2</th>\n",
       "      <td>None</td>\n",
       "      <td>NaN</td>\n",
       "      <td>False</td>\n",
       "      <td>0.0</td>\n",
       "      <td>5e9d0d95eda69955f709d1eb</td>\n",
       "      <td>False</td>\n",
       "      <td>[{'time': 140, 'altitude': 35, 'reason': 'resi...</td>\n",
       "      <td>Residual stage 1 thrust led to collision betwe...</td>\n",
       "      <td>[]</td>\n",
       "      <td>[]</td>\n",
       "      <td>...</td>\n",
       "      <td>None</td>\n",
       "      <td>None</td>\n",
       "      <td>[]</td>\n",
       "      <td>[]</td>\n",
       "      <td>None</td>\n",
       "      <td>https://www.youtube.com/watch?v=v0w9p3U8860</td>\n",
       "      <td>v0w9p3U8860</td>\n",
       "      <td>http://www.spacex.com/news/2013/02/11/falcon-1...</td>\n",
       "      <td>https://en.wikipedia.org/wiki/Trailblazer_(sat...</td>\n",
       "      <td>NaN</td>\n",
       "    </tr>\n",
       "    <tr>\n",
       "      <th>3</th>\n",
       "      <td>2008-09-20T00:00:00.000Z</td>\n",
       "      <td>1.221869e+09</td>\n",
       "      <td>False</td>\n",
       "      <td>0.0</td>\n",
       "      <td>5e9d0d95eda69955f709d1eb</td>\n",
       "      <td>True</td>\n",
       "      <td>[]</td>\n",
       "      <td>Ratsat was carried to orbit on the first succe...</td>\n",
       "      <td>[]</td>\n",
       "      <td>[]</td>\n",
       "      <td>...</td>\n",
       "      <td>None</td>\n",
       "      <td>None</td>\n",
       "      <td>[]</td>\n",
       "      <td>[]</td>\n",
       "      <td>None</td>\n",
       "      <td>https://www.youtube.com/watch?v=dLQ2tZEH6G0</td>\n",
       "      <td>dLQ2tZEH6G0</td>\n",
       "      <td>https://en.wikipedia.org/wiki/Ratsat</td>\n",
       "      <td>https://en.wikipedia.org/wiki/Ratsat</td>\n",
       "      <td>NaN</td>\n",
       "    </tr>\n",
       "    <tr>\n",
       "      <th>4</th>\n",
       "      <td>None</td>\n",
       "      <td>NaN</td>\n",
       "      <td>False</td>\n",
       "      <td>0.0</td>\n",
       "      <td>5e9d0d95eda69955f709d1eb</td>\n",
       "      <td>True</td>\n",
       "      <td>[]</td>\n",
       "      <td>None</td>\n",
       "      <td>[]</td>\n",
       "      <td>[]</td>\n",
       "      <td>...</td>\n",
       "      <td>None</td>\n",
       "      <td>None</td>\n",
       "      <td>[]</td>\n",
       "      <td>[]</td>\n",
       "      <td>http://www.spacex.com/press/2012/12/19/spacexs...</td>\n",
       "      <td>https://www.youtube.com/watch?v=yTaIDooc8Og</td>\n",
       "      <td>yTaIDooc8Og</td>\n",
       "      <td>http://www.spacex.com/news/2013/02/12/falcon-1...</td>\n",
       "      <td>https://en.wikipedia.org/wiki/RazakSAT</td>\n",
       "      <td>NaN</td>\n",
       "    </tr>\n",
       "  </tbody>\n",
       "</table>\n",
       "<p>5 rows × 43 columns</p>\n",
       "</div>"
      ],
      "text/plain": [
       "       static_fire_date_utc  static_fire_date_unix    net  window  \\\n",
       "0  2006-03-17T00:00:00.000Z           1.142554e+09  False     0.0   \n",
       "1                      None                    NaN  False     0.0   \n",
       "2                      None                    NaN  False     0.0   \n",
       "3  2008-09-20T00:00:00.000Z           1.221869e+09  False     0.0   \n",
       "4                      None                    NaN  False     0.0   \n",
       "\n",
       "                     rocket success  \\\n",
       "0  5e9d0d95eda69955f709d1eb   False   \n",
       "1  5e9d0d95eda69955f709d1eb   False   \n",
       "2  5e9d0d95eda69955f709d1eb   False   \n",
       "3  5e9d0d95eda69955f709d1eb    True   \n",
       "4  5e9d0d95eda69955f709d1eb    True   \n",
       "\n",
       "                                            failures  \\\n",
       "0  [{'time': 33, 'altitude': None, 'reason': 'mer...   \n",
       "1  [{'time': 301, 'altitude': 289, 'reason': 'har...   \n",
       "2  [{'time': 140, 'altitude': 35, 'reason': 'resi...   \n",
       "3                                                 []   \n",
       "4                                                 []   \n",
       "\n",
       "                                             details crew ships  ...  \\\n",
       "0   Engine failure at 33 seconds and loss of vehicle   []    []  ...   \n",
       "1  Successful first stage burn and transition to ...   []    []  ...   \n",
       "2  Residual stage 1 thrust led to collision betwe...   []    []  ...   \n",
       "3  Ratsat was carried to orbit on the first succe...   []    []  ...   \n",
       "4                                               None   []    []  ...   \n",
       "\n",
       "  links.reddit.media links.reddit.recovery links.flickr.small  \\\n",
       "0               None                  None                 []   \n",
       "1               None                  None                 []   \n",
       "2               None                  None                 []   \n",
       "3               None                  None                 []   \n",
       "4               None                  None                 []   \n",
       "\n",
       "   links.flickr.original                                     links.presskit  \\\n",
       "0                     []                                               None   \n",
       "1                     []                                               None   \n",
       "2                     []                                               None   \n",
       "3                     []                                               None   \n",
       "4                     []  http://www.spacex.com/press/2012/12/19/spacexs...   \n",
       "\n",
       "                                 links.webcast  links.youtube_id  \\\n",
       "0  https://www.youtube.com/watch?v=0a_00nJ_Y88       0a_00nJ_Y88   \n",
       "1  https://www.youtube.com/watch?v=Lk4zQ2wP-Nc       Lk4zQ2wP-Nc   \n",
       "2  https://www.youtube.com/watch?v=v0w9p3U8860       v0w9p3U8860   \n",
       "3  https://www.youtube.com/watch?v=dLQ2tZEH6G0       dLQ2tZEH6G0   \n",
       "4  https://www.youtube.com/watch?v=yTaIDooc8Og       yTaIDooc8Og   \n",
       "\n",
       "                                       links.article  \\\n",
       "0  https://www.space.com/2196-spacex-inaugural-fa...   \n",
       "1  https://www.space.com/3590-spacex-falcon-1-roc...   \n",
       "2  http://www.spacex.com/news/2013/02/11/falcon-1...   \n",
       "3               https://en.wikipedia.org/wiki/Ratsat   \n",
       "4  http://www.spacex.com/news/2013/02/12/falcon-1...   \n",
       "\n",
       "                                     links.wikipedia  fairings  \n",
       "0              https://en.wikipedia.org/wiki/DemoSat       NaN  \n",
       "1              https://en.wikipedia.org/wiki/DemoSat       NaN  \n",
       "2  https://en.wikipedia.org/wiki/Trailblazer_(sat...       NaN  \n",
       "3               https://en.wikipedia.org/wiki/Ratsat       NaN  \n",
       "4             https://en.wikipedia.org/wiki/RazakSAT       NaN  \n",
       "\n",
       "[5 rows x 43 columns]"
      ]
     },
     "execution_count": 23,
     "metadata": {},
     "output_type": "execute_result"
    }
   ],
   "source": [
    "df.head()"
   ]
  },
  {
   "cell_type": "code",
   "execution_count": 20,
   "id": "25cc2971",
   "metadata": {},
   "outputs": [
    {
     "name": "stdout",
     "output_type": "stream",
     "text": [
      "fairings                                                              None\n",
      "static_fire_date_utc                                                  None\n",
      "static_fire_date_unix                                                 None\n",
      "net                                                                  False\n",
      "window                                                                None\n",
      "rocket                                            5e9d0d95eda69973a809d1ec\n",
      "success                                                               True\n",
      "failures                                                                []\n",
      "details                                                               None\n",
      "crew                     [62dd7196202306255024d13c, 62dd71c920230625502...\n",
      "ships                                                                   []\n",
      "capsules                                        [617c05591bad2c661a6e2909]\n",
      "payloads                                        [62dd73ed202306255024d145]\n",
      "launchpad                                         5e9e4502f509094188566f88\n",
      "flight_number                                                          187\n",
      "name                                                                Crew-5\n",
      "date_utc                                          2022-10-05T16:00:00.000Z\n",
      "date_unix                                                       1664985600\n",
      "date_local                                       2022-10-05T12:00:00-04:00\n",
      "date_precision                                                        hour\n",
      "upcoming                                                             False\n",
      "cores                    [{'core': '633d9da635a71d1d9c66797b', 'flight'...\n",
      "auto_update                                                           True\n",
      "tbd                                                                  False\n",
      "launch_library_id                     f33d5ece-e825-4cd8-809f-1d4c72a2e0d3\n",
      "id                                                62dd70d5202306255024d139\n",
      "links.patch.small          https://images2.imgbox.com/eb/d8/D1Yywp0w_o.png\n",
      "links.patch.large          https://images2.imgbox.com/33/2e/k6VE4iYl_o.png\n",
      "links.reddit.campaign                                                 None\n",
      "links.reddit.launch      https://www.reddit.com/r/spacex/comments/xvm76...\n",
      "links.reddit.media                                                    None\n",
      "links.reddit.recovery                                                 None\n",
      "links.flickr.small                                                      []\n",
      "links.flickr.original                                                   []\n",
      "links.presskit                                                        None\n",
      "links.webcast                                 https://youtu.be/5EwW8ZkArL4\n",
      "links.youtube_id                                               5EwW8ZkArL4\n",
      "links.article                                                         None\n",
      "links.wikipedia                https://en.wikipedia.org/wiki/SpaceX_Crew-5\n",
      "Name: 0, dtype: object\n"
     ]
    }
   ],
   "source": [
    "print(df.iloc[0])"
   ]
  },
  {
   "cell_type": "code",
   "execution_count": 15,
   "id": "c271ac6b",
   "metadata": {},
   "outputs": [],
   "source": [
    "df = pd.json_normalize(data)"
   ]
  },
  {
   "cell_type": "code",
   "execution_count": 17,
   "id": "0be744e9",
   "metadata": {},
   "outputs": [
    {
     "data": {
      "application/vnd.microsoft.datawrangler.viewer.v0+json": {
       "columns": [
        {
         "name": "index",
         "rawType": "int64",
         "type": "integer"
        },
        {
         "name": "fairings",
         "rawType": "object",
         "type": "unknown"
        },
        {
         "name": "static_fire_date_utc",
         "rawType": "object",
         "type": "unknown"
        },
        {
         "name": "static_fire_date_unix",
         "rawType": "object",
         "type": "unknown"
        },
        {
         "name": "net",
         "rawType": "bool",
         "type": "boolean"
        },
        {
         "name": "window",
         "rawType": "object",
         "type": "unknown"
        },
        {
         "name": "rocket",
         "rawType": "object",
         "type": "string"
        },
        {
         "name": "success",
         "rawType": "bool",
         "type": "boolean"
        },
        {
         "name": "failures",
         "rawType": "object",
         "type": "unknown"
        },
        {
         "name": "details",
         "rawType": "object",
         "type": "unknown"
        },
        {
         "name": "crew",
         "rawType": "object",
         "type": "unknown"
        },
        {
         "name": "ships",
         "rawType": "object",
         "type": "unknown"
        },
        {
         "name": "capsules",
         "rawType": "object",
         "type": "unknown"
        },
        {
         "name": "payloads",
         "rawType": "object",
         "type": "unknown"
        },
        {
         "name": "launchpad",
         "rawType": "object",
         "type": "string"
        },
        {
         "name": "flight_number",
         "rawType": "int64",
         "type": "integer"
        },
        {
         "name": "name",
         "rawType": "object",
         "type": "string"
        },
        {
         "name": "date_utc",
         "rawType": "object",
         "type": "string"
        },
        {
         "name": "date_unix",
         "rawType": "int64",
         "type": "integer"
        },
        {
         "name": "date_local",
         "rawType": "object",
         "type": "string"
        },
        {
         "name": "date_precision",
         "rawType": "object",
         "type": "string"
        },
        {
         "name": "upcoming",
         "rawType": "bool",
         "type": "boolean"
        },
        {
         "name": "cores",
         "rawType": "object",
         "type": "unknown"
        },
        {
         "name": "auto_update",
         "rawType": "bool",
         "type": "boolean"
        },
        {
         "name": "tbd",
         "rawType": "bool",
         "type": "boolean"
        },
        {
         "name": "launch_library_id",
         "rawType": "object",
         "type": "string"
        },
        {
         "name": "id",
         "rawType": "object",
         "type": "string"
        },
        {
         "name": "links.patch.small",
         "rawType": "object",
         "type": "string"
        },
        {
         "name": "links.patch.large",
         "rawType": "object",
         "type": "string"
        },
        {
         "name": "links.reddit.campaign",
         "rawType": "object",
         "type": "unknown"
        },
        {
         "name": "links.reddit.launch",
         "rawType": "object",
         "type": "string"
        },
        {
         "name": "links.reddit.media",
         "rawType": "object",
         "type": "unknown"
        },
        {
         "name": "links.reddit.recovery",
         "rawType": "object",
         "type": "unknown"
        },
        {
         "name": "links.flickr.small",
         "rawType": "object",
         "type": "unknown"
        },
        {
         "name": "links.flickr.original",
         "rawType": "object",
         "type": "unknown"
        },
        {
         "name": "links.presskit",
         "rawType": "object",
         "type": "unknown"
        },
        {
         "name": "links.webcast",
         "rawType": "object",
         "type": "string"
        },
        {
         "name": "links.youtube_id",
         "rawType": "object",
         "type": "string"
        },
        {
         "name": "links.article",
         "rawType": "object",
         "type": "unknown"
        },
        {
         "name": "links.wikipedia",
         "rawType": "object",
         "type": "string"
        }
       ],
       "conversionMethod": "pd.DataFrame",
       "ref": "432470e9-fdfb-4bd6-9ef8-84b9cdbe9381",
       "rows": [
        [
         "0",
         null,
         null,
         null,
         "False",
         null,
         "5e9d0d95eda69973a809d1ec",
         "True",
         "[]",
         null,
         "['62dd7196202306255024d13c', '62dd71c9202306255024d13d', '62dd7210202306255024d13e', '62dd7253202306255024d13f']",
         "[]",
         "['617c05591bad2c661a6e2909']",
         "['62dd73ed202306255024d145']",
         "5e9e4502f509094188566f88",
         "187",
         "Crew-5",
         "2022-10-05T16:00:00.000Z",
         "1664985600",
         "2022-10-05T12:00:00-04:00",
         "hour",
         "False",
         "[{'core': '633d9da635a71d1d9c66797b', 'flight': 1, 'gridfins': True, 'legs': True, 'reused': False, 'landing_attempt': True, 'landing_success': True, 'landing_type': 'ASDS', 'landpad': '5e9e3033383ecbb9e534e7cc'}]",
         "True",
         "False",
         "f33d5ece-e825-4cd8-809f-1d4c72a2e0d3",
         "62dd70d5202306255024d139",
         "https://images2.imgbox.com/eb/d8/D1Yywp0w_o.png",
         "https://images2.imgbox.com/33/2e/k6VE4iYl_o.png",
         null,
         "https://www.reddit.com/r/spacex/comments/xvm76j/rspacex_crew5_launchcoast_docking_discussion_and/",
         null,
         null,
         "[]",
         "[]",
         null,
         "https://youtu.be/5EwW8ZkArL4",
         "5EwW8ZkArL4",
         null,
         "https://en.wikipedia.org/wiki/SpaceX_Crew-5"
        ]
       ],
       "shape": {
        "columns": 39,
        "rows": 1
       }
      },
      "text/html": [
       "<div>\n",
       "<style scoped>\n",
       "    .dataframe tbody tr th:only-of-type {\n",
       "        vertical-align: middle;\n",
       "    }\n",
       "\n",
       "    .dataframe tbody tr th {\n",
       "        vertical-align: top;\n",
       "    }\n",
       "\n",
       "    .dataframe thead th {\n",
       "        text-align: right;\n",
       "    }\n",
       "</style>\n",
       "<table border=\"1\" class=\"dataframe\">\n",
       "  <thead>\n",
       "    <tr style=\"text-align: right;\">\n",
       "      <th></th>\n",
       "      <th>fairings</th>\n",
       "      <th>static_fire_date_utc</th>\n",
       "      <th>static_fire_date_unix</th>\n",
       "      <th>net</th>\n",
       "      <th>window</th>\n",
       "      <th>rocket</th>\n",
       "      <th>success</th>\n",
       "      <th>failures</th>\n",
       "      <th>details</th>\n",
       "      <th>crew</th>\n",
       "      <th>...</th>\n",
       "      <th>links.reddit.launch</th>\n",
       "      <th>links.reddit.media</th>\n",
       "      <th>links.reddit.recovery</th>\n",
       "      <th>links.flickr.small</th>\n",
       "      <th>links.flickr.original</th>\n",
       "      <th>links.presskit</th>\n",
       "      <th>links.webcast</th>\n",
       "      <th>links.youtube_id</th>\n",
       "      <th>links.article</th>\n",
       "      <th>links.wikipedia</th>\n",
       "    </tr>\n",
       "  </thead>\n",
       "  <tbody>\n",
       "    <tr>\n",
       "      <th>0</th>\n",
       "      <td>None</td>\n",
       "      <td>None</td>\n",
       "      <td>None</td>\n",
       "      <td>False</td>\n",
       "      <td>None</td>\n",
       "      <td>5e9d0d95eda69973a809d1ec</td>\n",
       "      <td>True</td>\n",
       "      <td>[]</td>\n",
       "      <td>None</td>\n",
       "      <td>[62dd7196202306255024d13c, 62dd71c920230625502...</td>\n",
       "      <td>...</td>\n",
       "      <td>https://www.reddit.com/r/spacex/comments/xvm76...</td>\n",
       "      <td>None</td>\n",
       "      <td>None</td>\n",
       "      <td>[]</td>\n",
       "      <td>[]</td>\n",
       "      <td>None</td>\n",
       "      <td>https://youtu.be/5EwW8ZkArL4</td>\n",
       "      <td>5EwW8ZkArL4</td>\n",
       "      <td>None</td>\n",
       "      <td>https://en.wikipedia.org/wiki/SpaceX_Crew-5</td>\n",
       "    </tr>\n",
       "  </tbody>\n",
       "</table>\n",
       "<p>1 rows × 39 columns</p>\n",
       "</div>"
      ],
      "text/plain": [
       "  fairings static_fire_date_utc static_fire_date_unix    net window  \\\n",
       "0     None                 None                  None  False   None   \n",
       "\n",
       "                     rocket  success failures details  \\\n",
       "0  5e9d0d95eda69973a809d1ec     True       []    None   \n",
       "\n",
       "                                                crew  ...  \\\n",
       "0  [62dd7196202306255024d13c, 62dd71c920230625502...  ...   \n",
       "\n",
       "                                 links.reddit.launch links.reddit.media  \\\n",
       "0  https://www.reddit.com/r/spacex/comments/xvm76...               None   \n",
       "\n",
       "  links.reddit.recovery links.flickr.small  links.flickr.original  \\\n",
       "0                  None                 []                     []   \n",
       "\n",
       "  links.presskit                 links.webcast  links.youtube_id  \\\n",
       "0           None  https://youtu.be/5EwW8ZkArL4       5EwW8ZkArL4   \n",
       "\n",
       "  links.article                              links.wikipedia  \n",
       "0          None  https://en.wikipedia.org/wiki/SpaceX_Crew-5  \n",
       "\n",
       "[1 rows x 39 columns]"
      ]
     },
     "execution_count": 17,
     "metadata": {},
     "output_type": "execute_result"
    }
   ],
   "source": [
    "df.head()"
   ]
  },
  {
   "cell_type": "code",
   "execution_count": 9,
   "id": "f5c894b4",
   "metadata": {},
   "outputs": [],
   "source": [
    "import pandas as pd\n",
    "df  =   pd.json_normalize(data)"
   ]
  },
  {
   "cell_type": "code",
   "execution_count": 10,
   "id": "b8697bf3",
   "metadata": {},
   "outputs": [
    {
     "data": {
      "application/vnd.microsoft.datawrangler.viewer.v0+json": {
       "columns": [
        {
         "name": "index",
         "rawType": "int64",
         "type": "integer"
        },
        {
         "name": "fairings",
         "rawType": "object",
         "type": "unknown"
        },
        {
         "name": "static_fire_date_utc",
         "rawType": "object",
         "type": "unknown"
        },
        {
         "name": "static_fire_date_unix",
         "rawType": "object",
         "type": "unknown"
        },
        {
         "name": "net",
         "rawType": "bool",
         "type": "boolean"
        },
        {
         "name": "window",
         "rawType": "object",
         "type": "unknown"
        },
        {
         "name": "rocket",
         "rawType": "object",
         "type": "string"
        },
        {
         "name": "success",
         "rawType": "bool",
         "type": "boolean"
        },
        {
         "name": "failures",
         "rawType": "object",
         "type": "unknown"
        },
        {
         "name": "details",
         "rawType": "object",
         "type": "unknown"
        },
        {
         "name": "crew",
         "rawType": "object",
         "type": "unknown"
        },
        {
         "name": "ships",
         "rawType": "object",
         "type": "unknown"
        },
        {
         "name": "capsules",
         "rawType": "object",
         "type": "unknown"
        },
        {
         "name": "payloads",
         "rawType": "object",
         "type": "unknown"
        },
        {
         "name": "launchpad",
         "rawType": "object",
         "type": "string"
        },
        {
         "name": "flight_number",
         "rawType": "int64",
         "type": "integer"
        },
        {
         "name": "name",
         "rawType": "object",
         "type": "string"
        },
        {
         "name": "date_utc",
         "rawType": "object",
         "type": "string"
        },
        {
         "name": "date_unix",
         "rawType": "int64",
         "type": "integer"
        },
        {
         "name": "date_local",
         "rawType": "object",
         "type": "string"
        },
        {
         "name": "date_precision",
         "rawType": "object",
         "type": "string"
        },
        {
         "name": "upcoming",
         "rawType": "bool",
         "type": "boolean"
        },
        {
         "name": "cores",
         "rawType": "object",
         "type": "unknown"
        },
        {
         "name": "auto_update",
         "rawType": "bool",
         "type": "boolean"
        },
        {
         "name": "tbd",
         "rawType": "bool",
         "type": "boolean"
        },
        {
         "name": "launch_library_id",
         "rawType": "object",
         "type": "string"
        },
        {
         "name": "id",
         "rawType": "object",
         "type": "string"
        },
        {
         "name": "links.patch.small",
         "rawType": "object",
         "type": "string"
        },
        {
         "name": "links.patch.large",
         "rawType": "object",
         "type": "string"
        },
        {
         "name": "links.reddit.campaign",
         "rawType": "object",
         "type": "unknown"
        },
        {
         "name": "links.reddit.launch",
         "rawType": "object",
         "type": "string"
        },
        {
         "name": "links.reddit.media",
         "rawType": "object",
         "type": "unknown"
        },
        {
         "name": "links.reddit.recovery",
         "rawType": "object",
         "type": "unknown"
        },
        {
         "name": "links.flickr.small",
         "rawType": "object",
         "type": "unknown"
        },
        {
         "name": "links.flickr.original",
         "rawType": "object",
         "type": "unknown"
        },
        {
         "name": "links.presskit",
         "rawType": "object",
         "type": "unknown"
        },
        {
         "name": "links.webcast",
         "rawType": "object",
         "type": "string"
        },
        {
         "name": "links.youtube_id",
         "rawType": "object",
         "type": "string"
        },
        {
         "name": "links.article",
         "rawType": "object",
         "type": "unknown"
        },
        {
         "name": "links.wikipedia",
         "rawType": "object",
         "type": "string"
        }
       ],
       "conversionMethod": "pd.DataFrame",
       "ref": "77eb2653-1b0d-4b06-b8aa-c19f6a2e0ee2",
       "rows": [
        [
         "0",
         null,
         null,
         null,
         "False",
         null,
         "5e9d0d95eda69973a809d1ec",
         "True",
         "[]",
         null,
         "['62dd7196202306255024d13c', '62dd71c9202306255024d13d', '62dd7210202306255024d13e', '62dd7253202306255024d13f']",
         "[]",
         "['617c05591bad2c661a6e2909']",
         "['62dd73ed202306255024d145']",
         "5e9e4502f509094188566f88",
         "187",
         "Crew-5",
         "2022-10-05T16:00:00.000Z",
         "1664985600",
         "2022-10-05T12:00:00-04:00",
         "hour",
         "False",
         "[{'core': '633d9da635a71d1d9c66797b', 'flight': 1, 'gridfins': True, 'legs': True, 'reused': False, 'landing_attempt': True, 'landing_success': True, 'landing_type': 'ASDS', 'landpad': '5e9e3033383ecbb9e534e7cc'}]",
         "True",
         "False",
         "f33d5ece-e825-4cd8-809f-1d4c72a2e0d3",
         "62dd70d5202306255024d139",
         "https://images2.imgbox.com/eb/d8/D1Yywp0w_o.png",
         "https://images2.imgbox.com/33/2e/k6VE4iYl_o.png",
         null,
         "https://www.reddit.com/r/spacex/comments/xvm76j/rspacex_crew5_launchcoast_docking_discussion_and/",
         null,
         null,
         "[]",
         "[]",
         null,
         "https://youtu.be/5EwW8ZkArL4",
         "5EwW8ZkArL4",
         null,
         "https://en.wikipedia.org/wiki/SpaceX_Crew-5"
        ]
       ],
       "shape": {
        "columns": 39,
        "rows": 1
       }
      },
      "text/html": [
       "<div>\n",
       "<style scoped>\n",
       "    .dataframe tbody tr th:only-of-type {\n",
       "        vertical-align: middle;\n",
       "    }\n",
       "\n",
       "    .dataframe tbody tr th {\n",
       "        vertical-align: top;\n",
       "    }\n",
       "\n",
       "    .dataframe thead th {\n",
       "        text-align: right;\n",
       "    }\n",
       "</style>\n",
       "<table border=\"1\" class=\"dataframe\">\n",
       "  <thead>\n",
       "    <tr style=\"text-align: right;\">\n",
       "      <th></th>\n",
       "      <th>fairings</th>\n",
       "      <th>static_fire_date_utc</th>\n",
       "      <th>static_fire_date_unix</th>\n",
       "      <th>net</th>\n",
       "      <th>window</th>\n",
       "      <th>rocket</th>\n",
       "      <th>success</th>\n",
       "      <th>failures</th>\n",
       "      <th>details</th>\n",
       "      <th>crew</th>\n",
       "      <th>...</th>\n",
       "      <th>links.reddit.launch</th>\n",
       "      <th>links.reddit.media</th>\n",
       "      <th>links.reddit.recovery</th>\n",
       "      <th>links.flickr.small</th>\n",
       "      <th>links.flickr.original</th>\n",
       "      <th>links.presskit</th>\n",
       "      <th>links.webcast</th>\n",
       "      <th>links.youtube_id</th>\n",
       "      <th>links.article</th>\n",
       "      <th>links.wikipedia</th>\n",
       "    </tr>\n",
       "  </thead>\n",
       "  <tbody>\n",
       "    <tr>\n",
       "      <th>0</th>\n",
       "      <td>None</td>\n",
       "      <td>None</td>\n",
       "      <td>None</td>\n",
       "      <td>False</td>\n",
       "      <td>None</td>\n",
       "      <td>5e9d0d95eda69973a809d1ec</td>\n",
       "      <td>True</td>\n",
       "      <td>[]</td>\n",
       "      <td>None</td>\n",
       "      <td>[62dd7196202306255024d13c, 62dd71c920230625502...</td>\n",
       "      <td>...</td>\n",
       "      <td>https://www.reddit.com/r/spacex/comments/xvm76...</td>\n",
       "      <td>None</td>\n",
       "      <td>None</td>\n",
       "      <td>[]</td>\n",
       "      <td>[]</td>\n",
       "      <td>None</td>\n",
       "      <td>https://youtu.be/5EwW8ZkArL4</td>\n",
       "      <td>5EwW8ZkArL4</td>\n",
       "      <td>None</td>\n",
       "      <td>https://en.wikipedia.org/wiki/SpaceX_Crew-5</td>\n",
       "    </tr>\n",
       "  </tbody>\n",
       "</table>\n",
       "<p>1 rows × 39 columns</p>\n",
       "</div>"
      ],
      "text/plain": [
       "  fairings static_fire_date_utc static_fire_date_unix    net window  \\\n",
       "0     None                 None                  None  False   None   \n",
       "\n",
       "                     rocket  success failures details  \\\n",
       "0  5e9d0d95eda69973a809d1ec     True       []    None   \n",
       "\n",
       "                                                crew  ...  \\\n",
       "0  [62dd7196202306255024d13c, 62dd71c920230625502...  ...   \n",
       "\n",
       "                                 links.reddit.launch links.reddit.media  \\\n",
       "0  https://www.reddit.com/r/spacex/comments/xvm76...               None   \n",
       "\n",
       "  links.reddit.recovery links.flickr.small  links.flickr.original  \\\n",
       "0                  None                 []                     []   \n",
       "\n",
       "  links.presskit                 links.webcast  links.youtube_id  \\\n",
       "0           None  https://youtu.be/5EwW8ZkArL4       5EwW8ZkArL4   \n",
       "\n",
       "  links.article                              links.wikipedia  \n",
       "0          None  https://en.wikipedia.org/wiki/SpaceX_Crew-5  \n",
       "\n",
       "[1 rows x 39 columns]"
      ]
     },
     "execution_count": 10,
     "metadata": {},
     "output_type": "execute_result"
    }
   ],
   "source": [
    "df.head()"
   ]
  },
  {
   "cell_type": "code",
   "execution_count": 24,
   "id": "5d66c8a3",
   "metadata": {},
   "outputs": [
    {
     "ename": "ConnectTimeout",
     "evalue": "HTTPSConnectionPool(host='dataservices.imf.org', port=443): Max retries exceeded with url: /REST/SDMX_JSON.svc/Dataflow (Caused by ConnectTimeoutError(<urllib3.connection.HTTPSConnection object at 0x000001B9329B2850>, 'Connection to dataservices.imf.org timed out. (connect timeout=None)'))",
     "output_type": "error",
     "traceback": [
      "\u001b[31m---------------------------------------------------------------------------\u001b[39m",
      "\u001b[31mTimeoutError\u001b[39m                              Traceback (most recent call last)",
      "\u001b[36mFile \u001b[39m\u001b[32m~\\AppData\\Local\\Packages\\PythonSoftwareFoundation.Python.3.13_qbz5n2kfra8p0\\LocalCache\\local-packages\\Python313\\site-packages\\urllib3\\connection.py:198\u001b[39m, in \u001b[36mHTTPConnection._new_conn\u001b[39m\u001b[34m(self)\u001b[39m\n\u001b[32m    197\u001b[39m \u001b[38;5;28;01mtry\u001b[39;00m:\n\u001b[32m--> \u001b[39m\u001b[32m198\u001b[39m     sock = \u001b[43mconnection\u001b[49m\u001b[43m.\u001b[49m\u001b[43mcreate_connection\u001b[49m\u001b[43m(\u001b[49m\n\u001b[32m    199\u001b[39m \u001b[43m        \u001b[49m\u001b[43m(\u001b[49m\u001b[38;5;28;43mself\u001b[39;49m\u001b[43m.\u001b[49m\u001b[43m_dns_host\u001b[49m\u001b[43m,\u001b[49m\u001b[43m \u001b[49m\u001b[38;5;28;43mself\u001b[39;49m\u001b[43m.\u001b[49m\u001b[43mport\u001b[49m\u001b[43m)\u001b[49m\u001b[43m,\u001b[49m\n\u001b[32m    200\u001b[39m \u001b[43m        \u001b[49m\u001b[38;5;28;43mself\u001b[39;49m\u001b[43m.\u001b[49m\u001b[43mtimeout\u001b[49m\u001b[43m,\u001b[49m\n\u001b[32m    201\u001b[39m \u001b[43m        \u001b[49m\u001b[43msource_address\u001b[49m\u001b[43m=\u001b[49m\u001b[38;5;28;43mself\u001b[39;49m\u001b[43m.\u001b[49m\u001b[43msource_address\u001b[49m\u001b[43m,\u001b[49m\n\u001b[32m    202\u001b[39m \u001b[43m        \u001b[49m\u001b[43msocket_options\u001b[49m\u001b[43m=\u001b[49m\u001b[38;5;28;43mself\u001b[39;49m\u001b[43m.\u001b[49m\u001b[43msocket_options\u001b[49m\u001b[43m,\u001b[49m\n\u001b[32m    203\u001b[39m \u001b[43m    \u001b[49m\u001b[43m)\u001b[49m\n\u001b[32m    204\u001b[39m \u001b[38;5;28;01mexcept\u001b[39;00m socket.gaierror \u001b[38;5;28;01mas\u001b[39;00m e:\n",
      "\u001b[36mFile \u001b[39m\u001b[32m~\\AppData\\Local\\Packages\\PythonSoftwareFoundation.Python.3.13_qbz5n2kfra8p0\\LocalCache\\local-packages\\Python313\\site-packages\\urllib3\\util\\connection.py:85\u001b[39m, in \u001b[36mcreate_connection\u001b[39m\u001b[34m(address, timeout, source_address, socket_options)\u001b[39m\n\u001b[32m     84\u001b[39m \u001b[38;5;28;01mtry\u001b[39;00m:\n\u001b[32m---> \u001b[39m\u001b[32m85\u001b[39m     \u001b[38;5;28;01mraise\u001b[39;00m err\n\u001b[32m     86\u001b[39m \u001b[38;5;28;01mfinally\u001b[39;00m:\n\u001b[32m     87\u001b[39m     \u001b[38;5;66;03m# Break explicitly a reference cycle\u001b[39;00m\n",
      "\u001b[36mFile \u001b[39m\u001b[32m~\\AppData\\Local\\Packages\\PythonSoftwareFoundation.Python.3.13_qbz5n2kfra8p0\\LocalCache\\local-packages\\Python313\\site-packages\\urllib3\\util\\connection.py:73\u001b[39m, in \u001b[36mcreate_connection\u001b[39m\u001b[34m(address, timeout, source_address, socket_options)\u001b[39m\n\u001b[32m     72\u001b[39m     sock.bind(source_address)\n\u001b[32m---> \u001b[39m\u001b[32m73\u001b[39m \u001b[43msock\u001b[49m\u001b[43m.\u001b[49m\u001b[43mconnect\u001b[49m\u001b[43m(\u001b[49m\u001b[43msa\u001b[49m\u001b[43m)\u001b[49m\n\u001b[32m     74\u001b[39m \u001b[38;5;66;03m# Break explicitly a reference cycle\u001b[39;00m\n",
      "\u001b[31mTimeoutError\u001b[39m: [WinError 10060] A connection attempt failed because the connected party did not properly respond after a period of time, or established connection failed because connected host has failed to respond",
      "\nThe above exception was the direct cause of the following exception:\n",
      "\u001b[31mConnectTimeoutError\u001b[39m                       Traceback (most recent call last)",
      "\u001b[36mFile \u001b[39m\u001b[32m~\\AppData\\Local\\Packages\\PythonSoftwareFoundation.Python.3.13_qbz5n2kfra8p0\\LocalCache\\local-packages\\Python313\\site-packages\\urllib3\\connectionpool.py:787\u001b[39m, in \u001b[36mHTTPConnectionPool.urlopen\u001b[39m\u001b[34m(self, method, url, body, headers, retries, redirect, assert_same_host, timeout, pool_timeout, release_conn, chunked, body_pos, preload_content, decode_content, **response_kw)\u001b[39m\n\u001b[32m    786\u001b[39m \u001b[38;5;66;03m# Make the request on the HTTPConnection object\u001b[39;00m\n\u001b[32m--> \u001b[39m\u001b[32m787\u001b[39m response = \u001b[38;5;28;43mself\u001b[39;49m\u001b[43m.\u001b[49m\u001b[43m_make_request\u001b[49m\u001b[43m(\u001b[49m\n\u001b[32m    788\u001b[39m \u001b[43m    \u001b[49m\u001b[43mconn\u001b[49m\u001b[43m,\u001b[49m\n\u001b[32m    789\u001b[39m \u001b[43m    \u001b[49m\u001b[43mmethod\u001b[49m\u001b[43m,\u001b[49m\n\u001b[32m    790\u001b[39m \u001b[43m    \u001b[49m\u001b[43murl\u001b[49m\u001b[43m,\u001b[49m\n\u001b[32m    791\u001b[39m \u001b[43m    \u001b[49m\u001b[43mtimeout\u001b[49m\u001b[43m=\u001b[49m\u001b[43mtimeout_obj\u001b[49m\u001b[43m,\u001b[49m\n\u001b[32m    792\u001b[39m \u001b[43m    \u001b[49m\u001b[43mbody\u001b[49m\u001b[43m=\u001b[49m\u001b[43mbody\u001b[49m\u001b[43m,\u001b[49m\n\u001b[32m    793\u001b[39m \u001b[43m    \u001b[49m\u001b[43mheaders\u001b[49m\u001b[43m=\u001b[49m\u001b[43mheaders\u001b[49m\u001b[43m,\u001b[49m\n\u001b[32m    794\u001b[39m \u001b[43m    \u001b[49m\u001b[43mchunked\u001b[49m\u001b[43m=\u001b[49m\u001b[43mchunked\u001b[49m\u001b[43m,\u001b[49m\n\u001b[32m    795\u001b[39m \u001b[43m    \u001b[49m\u001b[43mretries\u001b[49m\u001b[43m=\u001b[49m\u001b[43mretries\u001b[49m\u001b[43m,\u001b[49m\n\u001b[32m    796\u001b[39m \u001b[43m    \u001b[49m\u001b[43mresponse_conn\u001b[49m\u001b[43m=\u001b[49m\u001b[43mresponse_conn\u001b[49m\u001b[43m,\u001b[49m\n\u001b[32m    797\u001b[39m \u001b[43m    \u001b[49m\u001b[43mpreload_content\u001b[49m\u001b[43m=\u001b[49m\u001b[43mpreload_content\u001b[49m\u001b[43m,\u001b[49m\n\u001b[32m    798\u001b[39m \u001b[43m    \u001b[49m\u001b[43mdecode_content\u001b[49m\u001b[43m=\u001b[49m\u001b[43mdecode_content\u001b[49m\u001b[43m,\u001b[49m\n\u001b[32m    799\u001b[39m \u001b[43m    \u001b[49m\u001b[43m*\u001b[49m\u001b[43m*\u001b[49m\u001b[43mresponse_kw\u001b[49m\u001b[43m,\u001b[49m\n\u001b[32m    800\u001b[39m \u001b[43m\u001b[49m\u001b[43m)\u001b[49m\n\u001b[32m    802\u001b[39m \u001b[38;5;66;03m# Everything went great!\u001b[39;00m\n",
      "\u001b[36mFile \u001b[39m\u001b[32m~\\AppData\\Local\\Packages\\PythonSoftwareFoundation.Python.3.13_qbz5n2kfra8p0\\LocalCache\\local-packages\\Python313\\site-packages\\urllib3\\connectionpool.py:488\u001b[39m, in \u001b[36mHTTPConnectionPool._make_request\u001b[39m\u001b[34m(self, conn, method, url, body, headers, retries, timeout, chunked, response_conn, preload_content, decode_content, enforce_content_length)\u001b[39m\n\u001b[32m    487\u001b[39m         new_e = _wrap_proxy_error(new_e, conn.proxy.scheme)\n\u001b[32m--> \u001b[39m\u001b[32m488\u001b[39m     \u001b[38;5;28;01mraise\u001b[39;00m new_e\n\u001b[32m    490\u001b[39m \u001b[38;5;66;03m# conn.request() calls http.client.*.request, not the method in\u001b[39;00m\n\u001b[32m    491\u001b[39m \u001b[38;5;66;03m# urllib3.request. It also calls makefile (recv) on the socket.\u001b[39;00m\n",
      "\u001b[36mFile \u001b[39m\u001b[32m~\\AppData\\Local\\Packages\\PythonSoftwareFoundation.Python.3.13_qbz5n2kfra8p0\\LocalCache\\local-packages\\Python313\\site-packages\\urllib3\\connectionpool.py:464\u001b[39m, in \u001b[36mHTTPConnectionPool._make_request\u001b[39m\u001b[34m(self, conn, method, url, body, headers, retries, timeout, chunked, response_conn, preload_content, decode_content, enforce_content_length)\u001b[39m\n\u001b[32m    463\u001b[39m \u001b[38;5;28;01mtry\u001b[39;00m:\n\u001b[32m--> \u001b[39m\u001b[32m464\u001b[39m     \u001b[38;5;28;43mself\u001b[39;49m\u001b[43m.\u001b[49m\u001b[43m_validate_conn\u001b[49m\u001b[43m(\u001b[49m\u001b[43mconn\u001b[49m\u001b[43m)\u001b[49m\n\u001b[32m    465\u001b[39m \u001b[38;5;28;01mexcept\u001b[39;00m (SocketTimeout, BaseSSLError) \u001b[38;5;28;01mas\u001b[39;00m e:\n",
      "\u001b[36mFile \u001b[39m\u001b[32m~\\AppData\\Local\\Packages\\PythonSoftwareFoundation.Python.3.13_qbz5n2kfra8p0\\LocalCache\\local-packages\\Python313\\site-packages\\urllib3\\connectionpool.py:1093\u001b[39m, in \u001b[36mHTTPSConnectionPool._validate_conn\u001b[39m\u001b[34m(self, conn)\u001b[39m\n\u001b[32m   1092\u001b[39m \u001b[38;5;28;01mif\u001b[39;00m conn.is_closed:\n\u001b[32m-> \u001b[39m\u001b[32m1093\u001b[39m     \u001b[43mconn\u001b[49m\u001b[43m.\u001b[49m\u001b[43mconnect\u001b[49m\u001b[43m(\u001b[49m\u001b[43m)\u001b[49m\n\u001b[32m   1095\u001b[39m \u001b[38;5;66;03m# TODO revise this, see https://github.com/urllib3/urllib3/issues/2791\u001b[39;00m\n",
      "\u001b[36mFile \u001b[39m\u001b[32m~\\AppData\\Local\\Packages\\PythonSoftwareFoundation.Python.3.13_qbz5n2kfra8p0\\LocalCache\\local-packages\\Python313\\site-packages\\urllib3\\connection.py:704\u001b[39m, in \u001b[36mHTTPSConnection.connect\u001b[39m\u001b[34m(self)\u001b[39m\n\u001b[32m    703\u001b[39m sock: socket.socket | ssl.SSLSocket\n\u001b[32m--> \u001b[39m\u001b[32m704\u001b[39m \u001b[38;5;28mself\u001b[39m.sock = sock = \u001b[38;5;28;43mself\u001b[39;49m\u001b[43m.\u001b[49m\u001b[43m_new_conn\u001b[49m\u001b[43m(\u001b[49m\u001b[43m)\u001b[49m\n\u001b[32m    705\u001b[39m server_hostname: \u001b[38;5;28mstr\u001b[39m = \u001b[38;5;28mself\u001b[39m.host\n",
      "\u001b[36mFile \u001b[39m\u001b[32m~\\AppData\\Local\\Packages\\PythonSoftwareFoundation.Python.3.13_qbz5n2kfra8p0\\LocalCache\\local-packages\\Python313\\site-packages\\urllib3\\connection.py:207\u001b[39m, in \u001b[36mHTTPConnection._new_conn\u001b[39m\u001b[34m(self)\u001b[39m\n\u001b[32m    206\u001b[39m \u001b[38;5;28;01mexcept\u001b[39;00m SocketTimeout \u001b[38;5;28;01mas\u001b[39;00m e:\n\u001b[32m--> \u001b[39m\u001b[32m207\u001b[39m     \u001b[38;5;28;01mraise\u001b[39;00m ConnectTimeoutError(\n\u001b[32m    208\u001b[39m         \u001b[38;5;28mself\u001b[39m,\n\u001b[32m    209\u001b[39m         \u001b[33mf\u001b[39m\u001b[33m\"\u001b[39m\u001b[33mConnection to \u001b[39m\u001b[38;5;132;01m{\u001b[39;00m\u001b[38;5;28mself\u001b[39m.host\u001b[38;5;132;01m}\u001b[39;00m\u001b[33m timed out. (connect timeout=\u001b[39m\u001b[38;5;132;01m{\u001b[39;00m\u001b[38;5;28mself\u001b[39m.timeout\u001b[38;5;132;01m}\u001b[39;00m\u001b[33m)\u001b[39m\u001b[33m\"\u001b[39m,\n\u001b[32m    210\u001b[39m     ) \u001b[38;5;28;01mfrom\u001b[39;00m\u001b[38;5;250m \u001b[39m\u001b[34;01me\u001b[39;00m\n\u001b[32m    212\u001b[39m \u001b[38;5;28;01mexcept\u001b[39;00m \u001b[38;5;167;01mOSError\u001b[39;00m \u001b[38;5;28;01mas\u001b[39;00m e:\n",
      "\u001b[31mConnectTimeoutError\u001b[39m: (<urllib3.connection.HTTPSConnection object at 0x000001B9329B2850>, 'Connection to dataservices.imf.org timed out. (connect timeout=None)')",
      "\nThe above exception was the direct cause of the following exception:\n",
      "\u001b[31mMaxRetryError\u001b[39m                             Traceback (most recent call last)",
      "\u001b[36mFile \u001b[39m\u001b[32m~\\AppData\\Local\\Packages\\PythonSoftwareFoundation.Python.3.13_qbz5n2kfra8p0\\LocalCache\\local-packages\\Python313\\site-packages\\requests\\adapters.py:667\u001b[39m, in \u001b[36mHTTPAdapter.send\u001b[39m\u001b[34m(self, request, stream, timeout, verify, cert, proxies)\u001b[39m\n\u001b[32m    666\u001b[39m \u001b[38;5;28;01mtry\u001b[39;00m:\n\u001b[32m--> \u001b[39m\u001b[32m667\u001b[39m     resp = \u001b[43mconn\u001b[49m\u001b[43m.\u001b[49m\u001b[43murlopen\u001b[49m\u001b[43m(\u001b[49m\n\u001b[32m    668\u001b[39m \u001b[43m        \u001b[49m\u001b[43mmethod\u001b[49m\u001b[43m=\u001b[49m\u001b[43mrequest\u001b[49m\u001b[43m.\u001b[49m\u001b[43mmethod\u001b[49m\u001b[43m,\u001b[49m\n\u001b[32m    669\u001b[39m \u001b[43m        \u001b[49m\u001b[43murl\u001b[49m\u001b[43m=\u001b[49m\u001b[43murl\u001b[49m\u001b[43m,\u001b[49m\n\u001b[32m    670\u001b[39m \u001b[43m        \u001b[49m\u001b[43mbody\u001b[49m\u001b[43m=\u001b[49m\u001b[43mrequest\u001b[49m\u001b[43m.\u001b[49m\u001b[43mbody\u001b[49m\u001b[43m,\u001b[49m\n\u001b[32m    671\u001b[39m \u001b[43m        \u001b[49m\u001b[43mheaders\u001b[49m\u001b[43m=\u001b[49m\u001b[43mrequest\u001b[49m\u001b[43m.\u001b[49m\u001b[43mheaders\u001b[49m\u001b[43m,\u001b[49m\n\u001b[32m    672\u001b[39m \u001b[43m        \u001b[49m\u001b[43mredirect\u001b[49m\u001b[43m=\u001b[49m\u001b[38;5;28;43;01mFalse\u001b[39;49;00m\u001b[43m,\u001b[49m\n\u001b[32m    673\u001b[39m \u001b[43m        \u001b[49m\u001b[43massert_same_host\u001b[49m\u001b[43m=\u001b[49m\u001b[38;5;28;43;01mFalse\u001b[39;49;00m\u001b[43m,\u001b[49m\n\u001b[32m    674\u001b[39m \u001b[43m        \u001b[49m\u001b[43mpreload_content\u001b[49m\u001b[43m=\u001b[49m\u001b[38;5;28;43;01mFalse\u001b[39;49;00m\u001b[43m,\u001b[49m\n\u001b[32m    675\u001b[39m \u001b[43m        \u001b[49m\u001b[43mdecode_content\u001b[49m\u001b[43m=\u001b[49m\u001b[38;5;28;43;01mFalse\u001b[39;49;00m\u001b[43m,\u001b[49m\n\u001b[32m    676\u001b[39m \u001b[43m        \u001b[49m\u001b[43mretries\u001b[49m\u001b[43m=\u001b[49m\u001b[38;5;28;43mself\u001b[39;49m\u001b[43m.\u001b[49m\u001b[43mmax_retries\u001b[49m\u001b[43m,\u001b[49m\n\u001b[32m    677\u001b[39m \u001b[43m        \u001b[49m\u001b[43mtimeout\u001b[49m\u001b[43m=\u001b[49m\u001b[43mtimeout\u001b[49m\u001b[43m,\u001b[49m\n\u001b[32m    678\u001b[39m \u001b[43m        \u001b[49m\u001b[43mchunked\u001b[49m\u001b[43m=\u001b[49m\u001b[43mchunked\u001b[49m\u001b[43m,\u001b[49m\n\u001b[32m    679\u001b[39m \u001b[43m    \u001b[49m\u001b[43m)\u001b[49m\n\u001b[32m    681\u001b[39m \u001b[38;5;28;01mexcept\u001b[39;00m (ProtocolError, \u001b[38;5;167;01mOSError\u001b[39;00m) \u001b[38;5;28;01mas\u001b[39;00m err:\n",
      "\u001b[36mFile \u001b[39m\u001b[32m~\\AppData\\Local\\Packages\\PythonSoftwareFoundation.Python.3.13_qbz5n2kfra8p0\\LocalCache\\local-packages\\Python313\\site-packages\\urllib3\\connectionpool.py:841\u001b[39m, in \u001b[36mHTTPConnectionPool.urlopen\u001b[39m\u001b[34m(self, method, url, body, headers, retries, redirect, assert_same_host, timeout, pool_timeout, release_conn, chunked, body_pos, preload_content, decode_content, **response_kw)\u001b[39m\n\u001b[32m    839\u001b[39m     new_e = ProtocolError(\u001b[33m\"\u001b[39m\u001b[33mConnection aborted.\u001b[39m\u001b[33m\"\u001b[39m, new_e)\n\u001b[32m--> \u001b[39m\u001b[32m841\u001b[39m retries = \u001b[43mretries\u001b[49m\u001b[43m.\u001b[49m\u001b[43mincrement\u001b[49m\u001b[43m(\u001b[49m\n\u001b[32m    842\u001b[39m \u001b[43m    \u001b[49m\u001b[43mmethod\u001b[49m\u001b[43m,\u001b[49m\u001b[43m \u001b[49m\u001b[43murl\u001b[49m\u001b[43m,\u001b[49m\u001b[43m \u001b[49m\u001b[43merror\u001b[49m\u001b[43m=\u001b[49m\u001b[43mnew_e\u001b[49m\u001b[43m,\u001b[49m\u001b[43m \u001b[49m\u001b[43m_pool\u001b[49m\u001b[43m=\u001b[49m\u001b[38;5;28;43mself\u001b[39;49m\u001b[43m,\u001b[49m\u001b[43m \u001b[49m\u001b[43m_stacktrace\u001b[49m\u001b[43m=\u001b[49m\u001b[43msys\u001b[49m\u001b[43m.\u001b[49m\u001b[43mexc_info\u001b[49m\u001b[43m(\u001b[49m\u001b[43m)\u001b[49m\u001b[43m[\u001b[49m\u001b[32;43m2\u001b[39;49m\u001b[43m]\u001b[49m\n\u001b[32m    843\u001b[39m \u001b[43m\u001b[49m\u001b[43m)\u001b[49m\n\u001b[32m    844\u001b[39m retries.sleep()\n",
      "\u001b[36mFile \u001b[39m\u001b[32m~\\AppData\\Local\\Packages\\PythonSoftwareFoundation.Python.3.13_qbz5n2kfra8p0\\LocalCache\\local-packages\\Python313\\site-packages\\urllib3\\util\\retry.py:519\u001b[39m, in \u001b[36mRetry.increment\u001b[39m\u001b[34m(self, method, url, response, error, _pool, _stacktrace)\u001b[39m\n\u001b[32m    518\u001b[39m     reason = error \u001b[38;5;129;01mor\u001b[39;00m ResponseError(cause)\n\u001b[32m--> \u001b[39m\u001b[32m519\u001b[39m     \u001b[38;5;28;01mraise\u001b[39;00m MaxRetryError(_pool, url, reason) \u001b[38;5;28;01mfrom\u001b[39;00m\u001b[38;5;250m \u001b[39m\u001b[34;01mreason\u001b[39;00m  \u001b[38;5;66;03m# type: ignore[arg-type]\u001b[39;00m\n\u001b[32m    521\u001b[39m log.debug(\u001b[33m\"\u001b[39m\u001b[33mIncremented Retry for (url=\u001b[39m\u001b[33m'\u001b[39m\u001b[38;5;132;01m%s\u001b[39;00m\u001b[33m'\u001b[39m\u001b[33m): \u001b[39m\u001b[38;5;132;01m%r\u001b[39;00m\u001b[33m\"\u001b[39m, url, new_retry)\n",
      "\u001b[31mMaxRetryError\u001b[39m: HTTPSConnectionPool(host='dataservices.imf.org', port=443): Max retries exceeded with url: /REST/SDMX_JSON.svc/Dataflow (Caused by ConnectTimeoutError(<urllib3.connection.HTTPSConnection object at 0x000001B9329B2850>, 'Connection to dataservices.imf.org timed out. (connect timeout=None)'))",
      "\nDuring handling of the above exception, another exception occurred:\n",
      "\u001b[31mConnectTimeout\u001b[39m                            Traceback (most recent call last)",
      "\u001b[36mCell\u001b[39m\u001b[36m \u001b[39m\u001b[32mIn[24]\u001b[39m\u001b[32m, line 4\u001b[39m\n\u001b[32m      1\u001b[39m \u001b[38;5;28;01mimport\u001b[39;00m\u001b[38;5;250m \u001b[39m\u001b[34;01mrequests\u001b[39;00m\n\u001b[32m      3\u001b[39m url = \u001b[33m\"\u001b[39m\u001b[33mhttps://dataservices.imf.org/REST/SDMX_JSON.svc/Dataflow\u001b[39m\u001b[33m\"\u001b[39m\n\u001b[32m----> \u001b[39m\u001b[32m4\u001b[39m response = \u001b[43mrequests\u001b[49m\u001b[43m.\u001b[49m\u001b[43mget\u001b[49m\u001b[43m(\u001b[49m\u001b[43murl\u001b[49m\u001b[43m)\u001b[49m\n\u001b[32m      5\u001b[39m data = response.json()\n\u001b[32m      6\u001b[39m \u001b[38;5;28;01mfor\u001b[39;00m item \u001b[38;5;129;01min\u001b[39;00m data[\u001b[33m'\u001b[39m\u001b[33mStructure\u001b[39m\u001b[33m'\u001b[39m][\u001b[33m'\u001b[39m\u001b[33mDataflows\u001b[39m\u001b[33m'\u001b[39m][\u001b[33m'\u001b[39m\u001b[33mDataflow\u001b[39m\u001b[33m'\u001b[39m]:\n",
      "\u001b[36mFile \u001b[39m\u001b[32m~\\AppData\\Local\\Packages\\PythonSoftwareFoundation.Python.3.13_qbz5n2kfra8p0\\LocalCache\\local-packages\\Python313\\site-packages\\requests\\api.py:73\u001b[39m, in \u001b[36mget\u001b[39m\u001b[34m(url, params, **kwargs)\u001b[39m\n\u001b[32m     62\u001b[39m \u001b[38;5;28;01mdef\u001b[39;00m\u001b[38;5;250m \u001b[39m\u001b[34mget\u001b[39m(url, params=\u001b[38;5;28;01mNone\u001b[39;00m, **kwargs):\n\u001b[32m     63\u001b[39m \u001b[38;5;250m    \u001b[39m\u001b[33mr\u001b[39m\u001b[33;03m\"\"\"Sends a GET request.\u001b[39;00m\n\u001b[32m     64\u001b[39m \n\u001b[32m     65\u001b[39m \u001b[33;03m    :param url: URL for the new :class:`Request` object.\u001b[39;00m\n\u001b[32m   (...)\u001b[39m\u001b[32m     70\u001b[39m \u001b[33;03m    :rtype: requests.Response\u001b[39;00m\n\u001b[32m     71\u001b[39m \u001b[33;03m    \"\"\"\u001b[39;00m\n\u001b[32m---> \u001b[39m\u001b[32m73\u001b[39m     \u001b[38;5;28;01mreturn\u001b[39;00m \u001b[43mrequest\u001b[49m\u001b[43m(\u001b[49m\u001b[33;43m\"\u001b[39;49m\u001b[33;43mget\u001b[39;49m\u001b[33;43m\"\u001b[39;49m\u001b[43m,\u001b[49m\u001b[43m \u001b[49m\u001b[43murl\u001b[49m\u001b[43m,\u001b[49m\u001b[43m \u001b[49m\u001b[43mparams\u001b[49m\u001b[43m=\u001b[49m\u001b[43mparams\u001b[49m\u001b[43m,\u001b[49m\u001b[43m \u001b[49m\u001b[43m*\u001b[49m\u001b[43m*\u001b[49m\u001b[43mkwargs\u001b[49m\u001b[43m)\u001b[49m\n",
      "\u001b[36mFile \u001b[39m\u001b[32m~\\AppData\\Local\\Packages\\PythonSoftwareFoundation.Python.3.13_qbz5n2kfra8p0\\LocalCache\\local-packages\\Python313\\site-packages\\requests\\api.py:59\u001b[39m, in \u001b[36mrequest\u001b[39m\u001b[34m(method, url, **kwargs)\u001b[39m\n\u001b[32m     55\u001b[39m \u001b[38;5;66;03m# By using the 'with' statement we are sure the session is closed, thus we\u001b[39;00m\n\u001b[32m     56\u001b[39m \u001b[38;5;66;03m# avoid leaving sockets open which can trigger a ResourceWarning in some\u001b[39;00m\n\u001b[32m     57\u001b[39m \u001b[38;5;66;03m# cases, and look like a memory leak in others.\u001b[39;00m\n\u001b[32m     58\u001b[39m \u001b[38;5;28;01mwith\u001b[39;00m sessions.Session() \u001b[38;5;28;01mas\u001b[39;00m session:\n\u001b[32m---> \u001b[39m\u001b[32m59\u001b[39m     \u001b[38;5;28;01mreturn\u001b[39;00m \u001b[43msession\u001b[49m\u001b[43m.\u001b[49m\u001b[43mrequest\u001b[49m\u001b[43m(\u001b[49m\u001b[43mmethod\u001b[49m\u001b[43m=\u001b[49m\u001b[43mmethod\u001b[49m\u001b[43m,\u001b[49m\u001b[43m \u001b[49m\u001b[43murl\u001b[49m\u001b[43m=\u001b[49m\u001b[43murl\u001b[49m\u001b[43m,\u001b[49m\u001b[43m \u001b[49m\u001b[43m*\u001b[49m\u001b[43m*\u001b[49m\u001b[43mkwargs\u001b[49m\u001b[43m)\u001b[49m\n",
      "\u001b[36mFile \u001b[39m\u001b[32m~\\AppData\\Local\\Packages\\PythonSoftwareFoundation.Python.3.13_qbz5n2kfra8p0\\LocalCache\\local-packages\\Python313\\site-packages\\requests\\sessions.py:589\u001b[39m, in \u001b[36mSession.request\u001b[39m\u001b[34m(self, method, url, params, data, headers, cookies, files, auth, timeout, allow_redirects, proxies, hooks, stream, verify, cert, json)\u001b[39m\n\u001b[32m    584\u001b[39m send_kwargs = {\n\u001b[32m    585\u001b[39m     \u001b[33m\"\u001b[39m\u001b[33mtimeout\u001b[39m\u001b[33m\"\u001b[39m: timeout,\n\u001b[32m    586\u001b[39m     \u001b[33m\"\u001b[39m\u001b[33mallow_redirects\u001b[39m\u001b[33m\"\u001b[39m: allow_redirects,\n\u001b[32m    587\u001b[39m }\n\u001b[32m    588\u001b[39m send_kwargs.update(settings)\n\u001b[32m--> \u001b[39m\u001b[32m589\u001b[39m resp = \u001b[38;5;28;43mself\u001b[39;49m\u001b[43m.\u001b[49m\u001b[43msend\u001b[49m\u001b[43m(\u001b[49m\u001b[43mprep\u001b[49m\u001b[43m,\u001b[49m\u001b[43m \u001b[49m\u001b[43m*\u001b[49m\u001b[43m*\u001b[49m\u001b[43msend_kwargs\u001b[49m\u001b[43m)\u001b[49m\n\u001b[32m    591\u001b[39m \u001b[38;5;28;01mreturn\u001b[39;00m resp\n",
      "\u001b[36mFile \u001b[39m\u001b[32m~\\AppData\\Local\\Packages\\PythonSoftwareFoundation.Python.3.13_qbz5n2kfra8p0\\LocalCache\\local-packages\\Python313\\site-packages\\requests\\sessions.py:703\u001b[39m, in \u001b[36mSession.send\u001b[39m\u001b[34m(self, request, **kwargs)\u001b[39m\n\u001b[32m    700\u001b[39m start = preferred_clock()\n\u001b[32m    702\u001b[39m \u001b[38;5;66;03m# Send the request\u001b[39;00m\n\u001b[32m--> \u001b[39m\u001b[32m703\u001b[39m r = \u001b[43madapter\u001b[49m\u001b[43m.\u001b[49m\u001b[43msend\u001b[49m\u001b[43m(\u001b[49m\u001b[43mrequest\u001b[49m\u001b[43m,\u001b[49m\u001b[43m \u001b[49m\u001b[43m*\u001b[49m\u001b[43m*\u001b[49m\u001b[43mkwargs\u001b[49m\u001b[43m)\u001b[49m\n\u001b[32m    705\u001b[39m \u001b[38;5;66;03m# Total elapsed time of the request (approximately)\u001b[39;00m\n\u001b[32m    706\u001b[39m elapsed = preferred_clock() - start\n",
      "\u001b[36mFile \u001b[39m\u001b[32m~\\AppData\\Local\\Packages\\PythonSoftwareFoundation.Python.3.13_qbz5n2kfra8p0\\LocalCache\\local-packages\\Python313\\site-packages\\requests\\adapters.py:688\u001b[39m, in \u001b[36mHTTPAdapter.send\u001b[39m\u001b[34m(self, request, stream, timeout, verify, cert, proxies)\u001b[39m\n\u001b[32m    685\u001b[39m \u001b[38;5;28;01mif\u001b[39;00m \u001b[38;5;28misinstance\u001b[39m(e.reason, ConnectTimeoutError):\n\u001b[32m    686\u001b[39m     \u001b[38;5;66;03m# TODO: Remove this in 3.0.0: see #2811\u001b[39;00m\n\u001b[32m    687\u001b[39m     \u001b[38;5;28;01mif\u001b[39;00m \u001b[38;5;129;01mnot\u001b[39;00m \u001b[38;5;28misinstance\u001b[39m(e.reason, NewConnectionError):\n\u001b[32m--> \u001b[39m\u001b[32m688\u001b[39m         \u001b[38;5;28;01mraise\u001b[39;00m ConnectTimeout(e, request=request)\n\u001b[32m    690\u001b[39m \u001b[38;5;28;01mif\u001b[39;00m \u001b[38;5;28misinstance\u001b[39m(e.reason, ResponseError):\n\u001b[32m    691\u001b[39m     \u001b[38;5;28;01mraise\u001b[39;00m RetryError(e, request=request)\n",
      "\u001b[31mConnectTimeout\u001b[39m: HTTPSConnectionPool(host='dataservices.imf.org', port=443): Max retries exceeded with url: /REST/SDMX_JSON.svc/Dataflow (Caused by ConnectTimeoutError(<urllib3.connection.HTTPSConnection object at 0x000001B9329B2850>, 'Connection to dataservices.imf.org timed out. (connect timeout=None)'))"
     ]
    }
   ],
   "source": [
    "import requests\n",
    "\n",
    "url = \"https://dataservices.imf.org/REST/SDMX_JSON.svc/Dataflow\"\n",
    "response = requests.get(url)\n",
    "data = response.json()\n",
    "for item in data['Structure']['Dataflows']['Dataflow']:\n",
    "    print(item['@id'], \"-\", item['Name']['#text'])"
   ]
  },
  {
   "cell_type": "code",
   "execution_count": null,
   "id": "530ce83a",
   "metadata": {},
   "outputs": [],
   "source": []
  }
 ],
 "metadata": {
  "kernelspec": {
   "display_name": "Python 3",
   "language": "python",
   "name": "python3"
  },
  "language_info": {
   "codemirror_mode": {
    "name": "ipython",
    "version": 3
   },
   "file_extension": ".py",
   "mimetype": "text/x-python",
   "name": "python",
   "nbconvert_exporter": "python",
   "pygments_lexer": "ipython3",
   "version": "3.13.3"
  }
 },
 "nbformat": 4,
 "nbformat_minor": 5
}
